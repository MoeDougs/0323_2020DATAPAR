{
 "cells": [
  {
   "cell_type": "markdown",
   "metadata": {},
   "source": [
    "# Before your start:\n",
    "- Read the README.md file\n",
    "- Comment as much as you can and use the resources in the README.md file\n",
    "- Happy learning!"
   ]
  },
  {
   "cell_type": "code",
   "execution_count": 1,
   "metadata": {},
   "outputs": [],
   "source": [
    "# Import your libraries:\n",
    "\n",
    "%matplotlib inline\n",
    "\n",
    "import matplotlib.pyplot as plt\n",
    "import numpy as np\n",
    "import pandas as pd\n",
    "import seaborn as sns"
   ]
  },
  {
   "cell_type": "markdown",
   "metadata": {},
   "source": [
    "# Challenge 1 - Import and Describe the Dataset\n",
    "\n",
    "In this lab, we will use a dataset containing information about customer preferences. We will look at how much each customer spends in a year on each subcategory in the grocery store and try to find similarities using clustering.\n",
    "\n",
    "The origin of the dataset is [here](https://archive.ics.uci.edu/ml/datasets/wholesale+customers)."
   ]
  },
  {
   "cell_type": "code",
   "execution_count": 120,
   "metadata": {},
   "outputs": [],
   "source": [
    "# loading the data:\n",
    "df=pd.read_csv('/Users/apple/desktop/Wholesale customers data.csv')"
   ]
  },
  {
   "cell_type": "markdown",
   "metadata": {},
   "source": [
    "#### Explore the dataset with mathematical and visualization techniques. What do you find?\n",
    "\n",
    "Checklist:\n",
    "\n",
    "* What does each column mean?\n",
    "* Any categorical data to convert?\n",
    "* Any missing data to remove?\n",
    "* Column collinearity - any high correlations?\n",
    "* Descriptive statistics - any outliers to remove?\n",
    "* Column-wise data distribution - is the distribution skewed?\n",
    "* Etc.\n",
    "\n",
    "Additional info: Over a century ago, an Italian economist named Vilfredo Pareto discovered that roughly 20% of the customers account for 80% of the typical retail sales. This is called the [Pareto principle](https://en.wikipedia.org/wiki/Pareto_principle). Check if this dataset displays this characteristic."
   ]
  },
  {
   "cell_type": "code",
   "execution_count": 121,
   "metadata": {},
   "outputs": [
    {
     "name": "stdout",
     "output_type": "stream",
     "text": [
      "<class 'pandas.core.frame.DataFrame'>\n",
      "RangeIndex: 440 entries, 0 to 439\n",
      "Data columns (total 8 columns):\n",
      " #   Column            Non-Null Count  Dtype\n",
      "---  ------            --------------  -----\n",
      " 0   Channel           440 non-null    int64\n",
      " 1   Region            440 non-null    int64\n",
      " 2   Fresh             440 non-null    int64\n",
      " 3   Milk              440 non-null    int64\n",
      " 4   Grocery           440 non-null    int64\n",
      " 5   Frozen            440 non-null    int64\n",
      " 6   Detergents_Paper  440 non-null    int64\n",
      " 7   Delicassen        440 non-null    int64\n",
      "dtypes: int64(8)\n",
      "memory usage: 27.6 KB\n"
     ]
    }
   ],
   "source": [
    "# Your code here:\n",
    "# 2 Channels : 1, 2\n",
    "# 3 Regions : 1, 2 , 3\n",
    "df.info()"
   ]
  },
  {
   "cell_type": "code",
   "execution_count": 122,
   "metadata": {},
   "outputs": [
    {
     "data": {
      "text/plain": [
       "Channel             0\n",
       "Region              0\n",
       "Fresh               0\n",
       "Milk                0\n",
       "Grocery             0\n",
       "Frozen              0\n",
       "Detergents_Paper    0\n",
       "Delicassen          0\n",
       "dtype: int64"
      ]
     },
     "execution_count": 122,
     "metadata": {},
     "output_type": "execute_result"
    }
   ],
   "source": [
    "# No missing columns\n",
    "df.isna().sum()"
   ]
  },
  {
   "cell_type": "code",
   "execution_count": 123,
   "metadata": {},
   "outputs": [],
   "source": [
    "df[['Channel','Region']]=df[['Channel','Region']].astype(object)"
   ]
  },
  {
   "cell_type": "code",
   "execution_count": 124,
   "metadata": {},
   "outputs": [
    {
     "data": {
      "text/plain": [
       "<matplotlib.axes._subplots.AxesSubplot at 0x1a1ef34650>"
      ]
     },
     "execution_count": 124,
     "metadata": {},
     "output_type": "execute_result"
    },
    {
     "data": {
      "image/png": "[encoded data removed]",
      "text/plain": [
       "<Figure size 432x288 with 2 Axes>"
      ]
     },
     "metadata": {
      "needs_background": "light"
     },
     "output_type": "display_data"
    }
   ],
   "source": [
    "sns.heatmap(df.corr())"
   ]
  },
  {
   "cell_type": "code",
   "execution_count": 125,
   "metadata": {},
   "outputs": [],
   "source": [
    "# I will drop Grocery detergants as it is highly correlated with Detergants Paper\n",
    "df.drop('Detergents_Paper', axis=1, inplace=True)"
   ]
  },
  {
   "cell_type": "code",
   "execution_count": 126,
   "metadata": {},
   "outputs": [
    {
     "data": {
      "text/html": [
       "<div>\n",
       "<style scoped>\n",
       "    .dataframe tbody tr th:only-of-type {\n",
       "        vertical-align: middle;\n",
       "    }\n",
       "\n",
       "    .dataframe tbody tr th {\n",
       "        vertical-align: top;\n",
       "    }\n",
       "\n",
       "    .dataframe thead th {\n",
       "        text-align: right;\n",
       "    }\n",
       "</style>\n",
       "<table border=\"1\" class=\"dataframe\">\n",
       "  <thead>\n",
       "    <tr style=\"text-align: right;\">\n",
       "      <th></th>\n",
       "      <th>Fresh</th>\n",
       "      <th>Milk</th>\n",
       "      <th>Grocery</th>\n",
       "      <th>Frozen</th>\n",
       "      <th>Delicassen</th>\n",
       "    </tr>\n",
       "  </thead>\n",
       "  <tbody>\n",
       "    <tr>\n",
       "      <th>count</th>\n",
       "      <td>440.000000</td>\n",
       "      <td>440.000000</td>\n",
       "      <td>440.000000</td>\n",
       "      <td>440.000000</td>\n",
       "      <td>440.000000</td>\n",
       "    </tr>\n",
       "    <tr>\n",
       "      <th>mean</th>\n",
       "      <td>12000.297727</td>\n",
       "      <td>5796.265909</td>\n",
       "      <td>7951.277273</td>\n",
       "      <td>3071.931818</td>\n",
       "      <td>1524.870455</td>\n",
       "    </tr>\n",
       "    <tr>\n",
       "      <th>std</th>\n",
       "      <td>12647.328865</td>\n",
       "      <td>7380.377175</td>\n",
       "      <td>9503.162829</td>\n",
       "      <td>4854.673333</td>\n",
       "      <td>2820.105937</td>\n",
       "    </tr>\n",
       "    <tr>\n",
       "      <th>min</th>\n",
       "      <td>3.000000</td>\n",
       "      <td>55.000000</td>\n",
       "      <td>3.000000</td>\n",
       "      <td>25.000000</td>\n",
       "      <td>3.000000</td>\n",
       "    </tr>\n",
       "    <tr>\n",
       "      <th>25%</th>\n",
       "      <td>3127.750000</td>\n",
       "      <td>1533.000000</td>\n",
       "      <td>2153.000000</td>\n",
       "      <td>742.250000</td>\n",
       "      <td>408.250000</td>\n",
       "    </tr>\n",
       "    <tr>\n",
       "      <th>50%</th>\n",
       "      <td>8504.000000</td>\n",
       "      <td>3627.000000</td>\n",
       "      <td>4755.500000</td>\n",
       "      <td>1526.000000</td>\n",
       "      <td>965.500000</td>\n",
       "    </tr>\n",
       "    <tr>\n",
       "      <th>75%</th>\n",
       "      <td>16933.750000</td>\n",
       "      <td>7190.250000</td>\n",
       "      <td>10655.750000</td>\n",
       "      <td>3554.250000</td>\n",
       "      <td>1820.250000</td>\n",
       "    </tr>\n",
       "    <tr>\n",
       "      <th>max</th>\n",
       "      <td>112151.000000</td>\n",
       "      <td>73498.000000</td>\n",
       "      <td>92780.000000</td>\n",
       "      <td>60869.000000</td>\n",
       "      <td>47943.000000</td>\n",
       "    </tr>\n",
       "  </tbody>\n",
       "</table>\n",
       "</div>"
      ],
      "text/plain": [
       "               Fresh          Milk       Grocery        Frozen    Delicassen\n",
       "count     440.000000    440.000000    440.000000    440.000000    440.000000\n",
       "mean    12000.297727   5796.265909   7951.277273   3071.931818   1524.870455\n",
       "std     12647.328865   7380.377175   9503.162829   4854.673333   2820.105937\n",
       "min         3.000000     55.000000      3.000000     25.000000      3.000000\n",
       "25%      3127.750000   1533.000000   2153.000000    742.250000    408.250000\n",
       "50%      8504.000000   3627.000000   4755.500000   1526.000000    965.500000\n",
       "75%     16933.750000   7190.250000  10655.750000   3554.250000   1820.250000\n",
       "max    112151.000000  73498.000000  92780.000000  60869.000000  47943.000000"
      ]
     },
     "execution_count": 126,
     "metadata": {},
     "output_type": "execute_result"
    }
   ],
   "source": [
    "df.describe()"
   ]
  },
  {
   "cell_type": "code",
   "execution_count": 127,
   "metadata": {
    "scrolled": true
   },
   "outputs": [
    {
     "data": {
      "image/png": "[encoded data removed]",
      "text/plain": [
       "<Figure size 1440x1440 with 5 Axes>"
      ]
     },
     "metadata": {
      "needs_background": "light"
     },
     "output_type": "display_data"
    }
   ],
   "source": [
    "num_features=list(set(df._get_numeric_data().columns))\n",
    "fig, axes=plt.subplots(2,4,figsize=(20,20))\n",
    "\n",
    "for idx,feature in enumerate(num_features):\n",
    "    ax=axes[idx//4,idx%4]\n",
    "    sns.boxplot(y=df[feature], ax=ax, palette='PuBu')\n",
    "    ax.set_xlabel('', size=10)\n",
    "    ax.set_ylabel(f'{feature}\\n', size=15)\n",
    "fig.tight_layout();\n",
    "\n",
    "fig.delaxes(axes[1][3])\n",
    "fig.delaxes(axes[1][2])\n",
    "fig.delaxes(axes[1][1]);"
   ]
  },
  {
   "cell_type": "code",
   "execution_count": 128,
   "metadata": {},
   "outputs": [],
   "source": [
    "lst=['Frozen', 'Milk','Grocery','Fresh','Delicassen']\n",
    "for i in lst:\n",
    "    df=df.drop(df.loc[df[i] > df[i].quantile(q=0.9)].index)"
   ]
  },
  {
   "cell_type": "code",
   "execution_count": 129,
   "metadata": {},
   "outputs": [
    {
     "data": {
      "text/html": [
       "<div>\n",
       "<style scoped>\n",
       "    .dataframe tbody tr th:only-of-type {\n",
       "        vertical-align: middle;\n",
       "    }\n",
       "\n",
       "    .dataframe tbody tr th {\n",
       "        vertical-align: top;\n",
       "    }\n",
       "\n",
       "    .dataframe thead th {\n",
       "        text-align: right;\n",
       "    }\n",
       "</style>\n",
       "<table border=\"1\" class=\"dataframe\">\n",
       "  <thead>\n",
       "    <tr style=\"text-align: right;\">\n",
       "      <th></th>\n",
       "      <th>Fresh</th>\n",
       "      <th>Milk</th>\n",
       "      <th>Grocery</th>\n",
       "      <th>Frozen</th>\n",
       "      <th>Delicassen</th>\n",
       "    </tr>\n",
       "  </thead>\n",
       "  <tbody>\n",
       "    <tr>\n",
       "      <th>count</th>\n",
       "      <td>259.000000</td>\n",
       "      <td>259.000000</td>\n",
       "      <td>259.000000</td>\n",
       "      <td>259.000000</td>\n",
       "      <td>259.000000</td>\n",
       "    </tr>\n",
       "    <tr>\n",
       "      <th>mean</th>\n",
       "      <td>8120.845560</td>\n",
       "      <td>3347.088803</td>\n",
       "      <td>4474.586873</td>\n",
       "      <td>1847.548263</td>\n",
       "      <td>798.200772</td>\n",
       "    </tr>\n",
       "    <tr>\n",
       "      <th>std</th>\n",
       "      <td>6288.412389</td>\n",
       "      <td>2770.463269</td>\n",
       "      <td>3576.433783</td>\n",
       "      <td>1729.706441</td>\n",
       "      <td>584.031025</td>\n",
       "    </tr>\n",
       "    <tr>\n",
       "      <th>min</th>\n",
       "      <td>3.000000</td>\n",
       "      <td>55.000000</td>\n",
       "      <td>3.000000</td>\n",
       "      <td>25.000000</td>\n",
       "      <td>3.000000</td>\n",
       "    </tr>\n",
       "    <tr>\n",
       "      <th>25%</th>\n",
       "      <td>2849.500000</td>\n",
       "      <td>1130.500000</td>\n",
       "      <td>1780.000000</td>\n",
       "      <td>590.000000</td>\n",
       "      <td>323.000000</td>\n",
       "    </tr>\n",
       "    <tr>\n",
       "      <th>50%</th>\n",
       "      <td>7005.000000</td>\n",
       "      <td>2295.000000</td>\n",
       "      <td>3009.000000</td>\n",
       "      <td>1178.000000</td>\n",
       "      <td>668.000000</td>\n",
       "    </tr>\n",
       "    <tr>\n",
       "      <th>75%</th>\n",
       "      <td>11996.500000</td>\n",
       "      <td>4995.500000</td>\n",
       "      <td>6617.000000</td>\n",
       "      <td>2536.000000</td>\n",
       "      <td>1143.500000</td>\n",
       "    </tr>\n",
       "    <tr>\n",
       "      <th>max</th>\n",
       "      <td>25606.000000</td>\n",
       "      <td>11577.000000</td>\n",
       "      <td>13586.000000</td>\n",
       "      <td>7530.000000</td>\n",
       "      <td>2341.000000</td>\n",
       "    </tr>\n",
       "  </tbody>\n",
       "</table>\n",
       "</div>"
      ],
      "text/plain": [
       "              Fresh          Milk       Grocery       Frozen   Delicassen\n",
       "count    259.000000    259.000000    259.000000   259.000000   259.000000\n",
       "mean    8120.845560   3347.088803   4474.586873  1847.548263   798.200772\n",
       "std     6288.412389   2770.463269   3576.433783  1729.706441   584.031025\n",
       "min        3.000000     55.000000      3.000000    25.000000     3.000000\n",
       "25%     2849.500000   1130.500000   1780.000000   590.000000   323.000000\n",
       "50%     7005.000000   2295.000000   3009.000000  1178.000000   668.000000\n",
       "75%    11996.500000   4995.500000   6617.000000  2536.000000  1143.500000\n",
       "max    25606.000000  11577.000000  13586.000000  7530.000000  2341.000000"
      ]
     },
     "execution_count": 129,
     "metadata": {},
     "output_type": "execute_result"
    }
   ],
   "source": [
    "# Your observations here\n",
    "df.describe()"
   ]
  },
  {
   "cell_type": "code",
   "execution_count": 130,
   "metadata": {},
   "outputs": [
    {
     "data": {
      "text/plain": [
       "<matplotlib.axes._subplots.AxesSubplot at 0x1a20fd61d0>"
      ]
     },
     "execution_count": 130,
     "metadata": {},
     "output_type": "execute_result"
    },
    {
     "data": {
      "image/png": "[encoded data removed]",
      "text/plain": [
       "<Figure size 432x288 with 1 Axes>"
      ]
     },
     "metadata": {
      "needs_background": "light"
     },
     "output_type": "display_data"
    }
   ],
   "source": [
    "df.Delicassen.hist()"
   ]
  },
  {
   "cell_type": "code",
   "execution_count": 131,
   "metadata": {},
   "outputs": [],
   "source": [
    "df=df.reset_index(drop=True)"
   ]
  },
  {
   "cell_type": "markdown",
   "metadata": {},
   "source": [
    "# Challenge 2 - Data Cleaning and Transformation\n",
    "\n",
    "If your conclusion from the previous challenge is the data need cleaning/transformation, do it in the cells below. However, if your conclusion is the data need not be cleaned or transformed, feel free to skip this challenge. But if you do choose the latter, please provide rationale."
   ]
  },
  {
   "cell_type": "code",
   "execution_count": 132,
   "metadata": {},
   "outputs": [],
   "source": [
    "# Your code here"
   ]
  },
  {
   "cell_type": "code",
   "execution_count": 133,
   "metadata": {},
   "outputs": [
    {
     "data": {
      "text/plain": [
       "'Cleaned above'"
      ]
     },
     "execution_count": 133,
     "metadata": {},
     "output_type": "execute_result"
    }
   ],
   "source": [
    "# Your comment here\n",
    "'Cleaned above'"
   ]
  },
  {
   "cell_type": "markdown",
   "metadata": {},
   "source": [
    "# Challenge 3 - Data Preprocessing\n",
    "\n",
    "One problem with the dataset is the value ranges are remarkably different across various categories (e.g. `Fresh` and `Grocery` compared to `Detergents_Paper` and `Delicassen`). If you made this observation in the first challenge, you've done a great job! This means you not only completed the bonus questions in the previous Supervised Learning lab but also researched deep into [*feature scaling*](https://en.wikipedia.org/wiki/Feature_scaling). Keep on the good work!\n",
    "\n",
    "Diverse value ranges in different features could cause issues in our clustering. The way to reduce the problem is through feature scaling. We'll use this technique again with this dataset.\n",
    "\n",
    "#### We will use the `StandardScaler` from `sklearn.preprocessing` and scale our data. Read more about `StandardScaler` [here](https://scikit-learn.org/stable/modules/generated/sklearn.preprocessing.StandardScaler.html#sklearn.preprocessing.StandardScaler).\n",
    "\n",
    "*After scaling your data, assign the transformed data to a new variable `customers_scale`.*"
   ]
  },
  {
   "cell_type": "code",
   "execution_count": 134,
   "metadata": {},
   "outputs": [],
   "source": [
    "# Your import here:\n",
    "\n",
    "from sklearn.preprocessing import StandardScaler\n",
    "\n",
    "# Your code here:\n",
    "scaler=StandardScaler()\n",
    "customers_scale=scaler.fit_transform(df[['Fresh','Milk', 'Grocery', 'Frozen', 'Delicassen']])"
   ]
  },
  {
   "cell_type": "code",
   "execution_count": 135,
   "metadata": {},
   "outputs": [],
   "source": [
    "customers_scale=pd.DataFrame(customers_scale)"
   ]
  },
  {
   "cell_type": "code",
   "execution_count": 136,
   "metadata": {
    "collapsed": true
   },
   "outputs": [
    {
     "data": {
      "text/html": [
       "<div>\n",
       "<style scoped>\n",
       "    .dataframe tbody tr th:only-of-type {\n",
       "        vertical-align: middle;\n",
       "    }\n",
       "\n",
       "    .dataframe tbody tr th {\n",
       "        vertical-align: top;\n",
       "    }\n",
       "\n",
       "    .dataframe thead th {\n",
       "        text-align: right;\n",
       "    }\n",
       "</style>\n",
       "<table border=\"1\" class=\"dataframe\">\n",
       "  <thead>\n",
       "    <tr style=\"text-align: right;\">\n",
       "      <th></th>\n",
       "      <th>0</th>\n",
       "      <th>1</th>\n",
       "      <th>2</th>\n",
       "      <th>3</th>\n",
       "      <th>4</th>\n",
       "    </tr>\n",
       "  </thead>\n",
       "  <tbody>\n",
       "    <tr>\n",
       "      <th>0</th>\n",
       "      <td>0.724660</td>\n",
       "      <td>2.281613</td>\n",
       "      <td>0.864657</td>\n",
       "      <td>-0.946236</td>\n",
       "      <td>0.926054</td>\n",
       "    </tr>\n",
       "    <tr>\n",
       "      <th>1</th>\n",
       "      <td>-0.169503</td>\n",
       "      <td>2.337307</td>\n",
       "      <td>1.426917</td>\n",
       "      <td>-0.049554</td>\n",
       "      <td>1.677466</td>\n",
       "    </tr>\n",
       "    <tr>\n",
       "      <th>2</th>\n",
       "      <td>0.819621</td>\n",
       "      <td>-0.777940</td>\n",
       "      <td>-0.071042</td>\n",
       "      <td>2.639334</td>\n",
       "      <td>1.698053</td>\n",
       "    </tr>\n",
       "    <tr>\n",
       "      <th>3</th>\n",
       "      <td>0.205880</td>\n",
       "      <td>1.776389</td>\n",
       "      <td>0.182493</td>\n",
       "      <td>-0.684414</td>\n",
       "      <td>1.119912</td>\n",
       "    </tr>\n",
       "    <tr>\n",
       "      <th>4</th>\n",
       "      <td>0.638143</td>\n",
       "      <td>-0.053556</td>\n",
       "      <td>0.700489</td>\n",
       "      <td>-0.792155</td>\n",
       "      <td>-0.434379</td>\n",
       "    </tr>\n",
       "    <tr>\n",
       "      <th>...</th>\n",
       "      <td>...</td>\n",
       "      <td>...</td>\n",
       "      <td>...</td>\n",
       "      <td>...</td>\n",
       "      <td>...</td>\n",
       "    </tr>\n",
       "    <tr>\n",
       "      <th>254</th>\n",
       "      <td>2.070684</td>\n",
       "      <td>-0.790236</td>\n",
       "      <td>0.078277</td>\n",
       "      <td>-0.914377</td>\n",
       "      <td>-0.691712</td>\n",
       "    </tr>\n",
       "    <tr>\n",
       "      <th>255</th>\n",
       "      <td>-0.978106</td>\n",
       "      <td>-0.046685</td>\n",
       "      <td>-0.835290</td>\n",
       "      <td>-0.177569</td>\n",
       "      <td>1.116480</td>\n",
       "    </tr>\n",
       "    <tr>\n",
       "      <th>256</th>\n",
       "      <td>1.371861</td>\n",
       "      <td>0.207916</td>\n",
       "      <td>0.985962</td>\n",
       "      <td>-0.671671</td>\n",
       "      <td>0.068278</td>\n",
       "    </tr>\n",
       "    <tr>\n",
       "      <th>257</th>\n",
       "      <td>0.345613</td>\n",
       "      <td>-0.494045</td>\n",
       "      <td>-0.628260</td>\n",
       "      <td>-0.468933</td>\n",
       "      <td>2.276194</td>\n",
       "    </tr>\n",
       "    <tr>\n",
       "      <th>258</th>\n",
       "      <td>-0.849844</td>\n",
       "      <td>-0.596392</td>\n",
       "      <td>-0.550378</td>\n",
       "      <td>-1.032545</td>\n",
       "      <td>-1.280147</td>\n",
       "    </tr>\n",
       "  </tbody>\n",
       "</table>\n",
       "<p>259 rows × 5 columns</p>\n",
       "</div>"
      ],
      "text/plain": [
       "            0         1         2         3         4\n",
       "0    0.724660  2.281613  0.864657 -0.946236  0.926054\n",
       "1   -0.169503  2.337307  1.426917 -0.049554  1.677466\n",
       "2    0.819621 -0.777940 -0.071042  2.639334  1.698053\n",
       "3    0.205880  1.776389  0.182493 -0.684414  1.119912\n",
       "4    0.638143 -0.053556  0.700489 -0.792155 -0.434379\n",
       "..        ...       ...       ...       ...       ...\n",
       "254  2.070684 -0.790236  0.078277 -0.914377 -0.691712\n",
       "255 -0.978106 -0.046685 -0.835290 -0.177569  1.116480\n",
       "256  1.371861  0.207916  0.985962 -0.671671  0.068278\n",
       "257  0.345613 -0.494045 -0.628260 -0.468933  2.276194\n",
       "258 -0.849844 -0.596392 -0.550378 -1.032545 -1.280147\n",
       "\n",
       "[259 rows x 5 columns]"
      ]
     },
     "execution_count": 136,
     "metadata": {},
     "output_type": "execute_result"
    }
   ],
   "source": [
    "customers_scale"
   ]
  },
  {
   "cell_type": "code",
   "execution_count": 137,
   "metadata": {},
   "outputs": [],
   "source": [
    "customers_scale['Channel'] = df['Channel']\n",
    "customers_scale['Region'] =  df['Region']"
   ]
  },
  {
   "cell_type": "code",
   "execution_count": 138,
   "metadata": {
    "collapsed": true
   },
   "outputs": [
    {
     "data": {
      "text/html": [
       "<div>\n",
       "<style scoped>\n",
       "    .dataframe tbody tr th:only-of-type {\n",
       "        vertical-align: middle;\n",
       "    }\n",
       "\n",
       "    .dataframe tbody tr th {\n",
       "        vertical-align: top;\n",
       "    }\n",
       "\n",
       "    .dataframe thead th {\n",
       "        text-align: right;\n",
       "    }\n",
       "</style>\n",
       "<table border=\"1\" class=\"dataframe\">\n",
       "  <thead>\n",
       "    <tr style=\"text-align: right;\">\n",
       "      <th></th>\n",
       "      <th>0</th>\n",
       "      <th>1</th>\n",
       "      <th>2</th>\n",
       "      <th>3</th>\n",
       "      <th>4</th>\n",
       "      <th>Channel</th>\n",
       "      <th>Region</th>\n",
       "    </tr>\n",
       "  </thead>\n",
       "  <tbody>\n",
       "    <tr>\n",
       "      <th>0</th>\n",
       "      <td>0.724660</td>\n",
       "      <td>2.281613</td>\n",
       "      <td>0.864657</td>\n",
       "      <td>-0.946236</td>\n",
       "      <td>0.926054</td>\n",
       "      <td>2</td>\n",
       "      <td>3</td>\n",
       "    </tr>\n",
       "    <tr>\n",
       "      <th>1</th>\n",
       "      <td>-0.169503</td>\n",
       "      <td>2.337307</td>\n",
       "      <td>1.426917</td>\n",
       "      <td>-0.049554</td>\n",
       "      <td>1.677466</td>\n",
       "      <td>2</td>\n",
       "      <td>3</td>\n",
       "    </tr>\n",
       "    <tr>\n",
       "      <th>2</th>\n",
       "      <td>0.819621</td>\n",
       "      <td>-0.777940</td>\n",
       "      <td>-0.071042</td>\n",
       "      <td>2.639334</td>\n",
       "      <td>1.698053</td>\n",
       "      <td>1</td>\n",
       "      <td>3</td>\n",
       "    </tr>\n",
       "    <tr>\n",
       "      <th>3</th>\n",
       "      <td>0.205880</td>\n",
       "      <td>1.776389</td>\n",
       "      <td>0.182493</td>\n",
       "      <td>-0.684414</td>\n",
       "      <td>1.119912</td>\n",
       "      <td>2</td>\n",
       "      <td>3</td>\n",
       "    </tr>\n",
       "    <tr>\n",
       "      <th>4</th>\n",
       "      <td>0.638143</td>\n",
       "      <td>-0.053556</td>\n",
       "      <td>0.700489</td>\n",
       "      <td>-0.792155</td>\n",
       "      <td>-0.434379</td>\n",
       "      <td>2</td>\n",
       "      <td>3</td>\n",
       "    </tr>\n",
       "    <tr>\n",
       "      <th>...</th>\n",
       "      <td>...</td>\n",
       "      <td>...</td>\n",
       "      <td>...</td>\n",
       "      <td>...</td>\n",
       "      <td>...</td>\n",
       "      <td>...</td>\n",
       "      <td>...</td>\n",
       "    </tr>\n",
       "    <tr>\n",
       "      <th>254</th>\n",
       "      <td>2.070684</td>\n",
       "      <td>-0.790236</td>\n",
       "      <td>0.078277</td>\n",
       "      <td>-0.914377</td>\n",
       "      <td>-0.691712</td>\n",
       "      <td>1</td>\n",
       "      <td>3</td>\n",
       "    </tr>\n",
       "    <tr>\n",
       "      <th>255</th>\n",
       "      <td>-0.978106</td>\n",
       "      <td>-0.046685</td>\n",
       "      <td>-0.835290</td>\n",
       "      <td>-0.177569</td>\n",
       "      <td>1.116480</td>\n",
       "      <td>1</td>\n",
       "      <td>3</td>\n",
       "    </tr>\n",
       "    <tr>\n",
       "      <th>256</th>\n",
       "      <td>1.371861</td>\n",
       "      <td>0.207916</td>\n",
       "      <td>0.985962</td>\n",
       "      <td>-0.671671</td>\n",
       "      <td>0.068278</td>\n",
       "      <td>1</td>\n",
       "      <td>3</td>\n",
       "    </tr>\n",
       "    <tr>\n",
       "      <th>257</th>\n",
       "      <td>0.345613</td>\n",
       "      <td>-0.494045</td>\n",
       "      <td>-0.628260</td>\n",
       "      <td>-0.468933</td>\n",
       "      <td>2.276194</td>\n",
       "      <td>1</td>\n",
       "      <td>3</td>\n",
       "    </tr>\n",
       "    <tr>\n",
       "      <th>258</th>\n",
       "      <td>-0.849844</td>\n",
       "      <td>-0.596392</td>\n",
       "      <td>-0.550378</td>\n",
       "      <td>-1.032545</td>\n",
       "      <td>-1.280147</td>\n",
       "      <td>1</td>\n",
       "      <td>3</td>\n",
       "    </tr>\n",
       "  </tbody>\n",
       "</table>\n",
       "<p>259 rows × 7 columns</p>\n",
       "</div>"
      ],
      "text/plain": [
       "            0         1         2         3         4 Channel Region\n",
       "0    0.724660  2.281613  0.864657 -0.946236  0.926054       2      3\n",
       "1   -0.169503  2.337307  1.426917 -0.049554  1.677466       2      3\n",
       "2    0.819621 -0.777940 -0.071042  2.639334  1.698053       1      3\n",
       "3    0.205880  1.776389  0.182493 -0.684414  1.119912       2      3\n",
       "4    0.638143 -0.053556  0.700489 -0.792155 -0.434379       2      3\n",
       "..        ...       ...       ...       ...       ...     ...    ...\n",
       "254  2.070684 -0.790236  0.078277 -0.914377 -0.691712       1      3\n",
       "255 -0.978106 -0.046685 -0.835290 -0.177569  1.116480       1      3\n",
       "256  1.371861  0.207916  0.985962 -0.671671  0.068278       1      3\n",
       "257  0.345613 -0.494045 -0.628260 -0.468933  2.276194       1      3\n",
       "258 -0.849844 -0.596392 -0.550378 -1.032545 -1.280147       1      3\n",
       "\n",
       "[259 rows x 7 columns]"
      ]
     },
     "execution_count": 138,
     "metadata": {},
     "output_type": "execute_result"
    }
   ],
   "source": [
    "customers_scale"
   ]
  },
  {
   "cell_type": "code",
   "execution_count": 139,
   "metadata": {},
   "outputs": [],
   "source": [
    "customers_scale=pd.get_dummies(data=customers_scale, columns=['Channel','Region'], drop_first=True)"
   ]
  },
  {
   "cell_type": "code",
   "execution_count": 140,
   "metadata": {
    "collapsed": true
   },
   "outputs": [
    {
     "data": {
      "text/html": [
       "<div>\n",
       "<style scoped>\n",
       "    .dataframe tbody tr th:only-of-type {\n",
       "        vertical-align: middle;\n",
       "    }\n",
       "\n",
       "    .dataframe tbody tr th {\n",
       "        vertical-align: top;\n",
       "    }\n",
       "\n",
       "    .dataframe thead th {\n",
       "        text-align: right;\n",
       "    }\n",
       "</style>\n",
       "<table border=\"1\" class=\"dataframe\">\n",
       "  <thead>\n",
       "    <tr style=\"text-align: right;\">\n",
       "      <th></th>\n",
       "      <th>0</th>\n",
       "      <th>1</th>\n",
       "      <th>2</th>\n",
       "      <th>3</th>\n",
       "      <th>4</th>\n",
       "      <th>Channel_2</th>\n",
       "      <th>Region_2</th>\n",
       "      <th>Region_3</th>\n",
       "    </tr>\n",
       "  </thead>\n",
       "  <tbody>\n",
       "    <tr>\n",
       "      <th>0</th>\n",
       "      <td>0.724660</td>\n",
       "      <td>2.281613</td>\n",
       "      <td>0.864657</td>\n",
       "      <td>-0.946236</td>\n",
       "      <td>0.926054</td>\n",
       "      <td>1</td>\n",
       "      <td>0</td>\n",
       "      <td>1</td>\n",
       "    </tr>\n",
       "    <tr>\n",
       "      <th>1</th>\n",
       "      <td>-0.169503</td>\n",
       "      <td>2.337307</td>\n",
       "      <td>1.426917</td>\n",
       "      <td>-0.049554</td>\n",
       "      <td>1.677466</td>\n",
       "      <td>1</td>\n",
       "      <td>0</td>\n",
       "      <td>1</td>\n",
       "    </tr>\n",
       "    <tr>\n",
       "      <th>2</th>\n",
       "      <td>0.819621</td>\n",
       "      <td>-0.777940</td>\n",
       "      <td>-0.071042</td>\n",
       "      <td>2.639334</td>\n",
       "      <td>1.698053</td>\n",
       "      <td>0</td>\n",
       "      <td>0</td>\n",
       "      <td>1</td>\n",
       "    </tr>\n",
       "    <tr>\n",
       "      <th>3</th>\n",
       "      <td>0.205880</td>\n",
       "      <td>1.776389</td>\n",
       "      <td>0.182493</td>\n",
       "      <td>-0.684414</td>\n",
       "      <td>1.119912</td>\n",
       "      <td>1</td>\n",
       "      <td>0</td>\n",
       "      <td>1</td>\n",
       "    </tr>\n",
       "    <tr>\n",
       "      <th>4</th>\n",
       "      <td>0.638143</td>\n",
       "      <td>-0.053556</td>\n",
       "      <td>0.700489</td>\n",
       "      <td>-0.792155</td>\n",
       "      <td>-0.434379</td>\n",
       "      <td>1</td>\n",
       "      <td>0</td>\n",
       "      <td>1</td>\n",
       "    </tr>\n",
       "    <tr>\n",
       "      <th>...</th>\n",
       "      <td>...</td>\n",
       "      <td>...</td>\n",
       "      <td>...</td>\n",
       "      <td>...</td>\n",
       "      <td>...</td>\n",
       "      <td>...</td>\n",
       "      <td>...</td>\n",
       "      <td>...</td>\n",
       "    </tr>\n",
       "    <tr>\n",
       "      <th>254</th>\n",
       "      <td>2.070684</td>\n",
       "      <td>-0.790236</td>\n",
       "      <td>0.078277</td>\n",
       "      <td>-0.914377</td>\n",
       "      <td>-0.691712</td>\n",
       "      <td>0</td>\n",
       "      <td>0</td>\n",
       "      <td>1</td>\n",
       "    </tr>\n",
       "    <tr>\n",
       "      <th>255</th>\n",
       "      <td>-0.978106</td>\n",
       "      <td>-0.046685</td>\n",
       "      <td>-0.835290</td>\n",
       "      <td>-0.177569</td>\n",
       "      <td>1.116480</td>\n",
       "      <td>0</td>\n",
       "      <td>0</td>\n",
       "      <td>1</td>\n",
       "    </tr>\n",
       "    <tr>\n",
       "      <th>256</th>\n",
       "      <td>1.371861</td>\n",
       "      <td>0.207916</td>\n",
       "      <td>0.985962</td>\n",
       "      <td>-0.671671</td>\n",
       "      <td>0.068278</td>\n",
       "      <td>0</td>\n",
       "      <td>0</td>\n",
       "      <td>1</td>\n",
       "    </tr>\n",
       "    <tr>\n",
       "      <th>257</th>\n",
       "      <td>0.345613</td>\n",
       "      <td>-0.494045</td>\n",
       "      <td>-0.628260</td>\n",
       "      <td>-0.468933</td>\n",
       "      <td>2.276194</td>\n",
       "      <td>0</td>\n",
       "      <td>0</td>\n",
       "      <td>1</td>\n",
       "    </tr>\n",
       "    <tr>\n",
       "      <th>258</th>\n",
       "      <td>-0.849844</td>\n",
       "      <td>-0.596392</td>\n",
       "      <td>-0.550378</td>\n",
       "      <td>-1.032545</td>\n",
       "      <td>-1.280147</td>\n",
       "      <td>0</td>\n",
       "      <td>0</td>\n",
       "      <td>1</td>\n",
       "    </tr>\n",
       "  </tbody>\n",
       "</table>\n",
       "<p>259 rows × 8 columns</p>\n",
       "</div>"
      ],
      "text/plain": [
       "            0         1         2         3         4  Channel_2  Region_2  \\\n",
       "0    0.724660  2.281613  0.864657 -0.946236  0.926054          1         0   \n",
       "1   -0.169503  2.337307  1.426917 -0.049554  1.677466          1         0   \n",
       "2    0.819621 -0.777940 -0.071042  2.639334  1.698053          0         0   \n",
       "3    0.205880  1.776389  0.182493 -0.684414  1.119912          1         0   \n",
       "4    0.638143 -0.053556  0.700489 -0.792155 -0.434379          1         0   \n",
       "..        ...       ...       ...       ...       ...        ...       ...   \n",
       "254  2.070684 -0.790236  0.078277 -0.914377 -0.691712          0         0   \n",
       "255 -0.978106 -0.046685 -0.835290 -0.177569  1.116480          0         0   \n",
       "256  1.371861  0.207916  0.985962 -0.671671  0.068278          0         0   \n",
       "257  0.345613 -0.494045 -0.628260 -0.468933  2.276194          0         0   \n",
       "258 -0.849844 -0.596392 -0.550378 -1.032545 -1.280147          0         0   \n",
       "\n",
       "     Region_3  \n",
       "0           1  \n",
       "1           1  \n",
       "2           1  \n",
       "3           1  \n",
       "4           1  \n",
       "..        ...  \n",
       "254         1  \n",
       "255         1  \n",
       "256         1  \n",
       "257         1  \n",
       "258         1  \n",
       "\n",
       "[259 rows x 8 columns]"
      ]
     },
     "execution_count": 140,
     "metadata": {},
     "output_type": "execute_result"
    }
   ],
   "source": [
    "customers_scale"
   ]
  },
  {
   "cell_type": "markdown",
   "metadata": {},
   "source": [
    "# Challenge 3 - Data Clustering with K-Means\n",
    "\n",
    "Now let's cluster the data with K-Means first. Initiate the K-Means model, then fit your scaled data. In the data returned from the `.fit` method, there is an attribute called `labels_` which is the cluster number assigned to each data record. What you can do is to assign these labels back to `customers` in a new column called `customers['labels']`. Then you'll see the cluster results of the original data."
   ]
  },
  {
   "cell_type": "code",
   "execution_count": 141,
   "metadata": {
    "scrolled": true
   },
   "outputs": [
    {
     "data": {
      "text/plain": [
       "KMeans(algorithm='auto', copy_x=True, init='k-means++', max_iter=300,\n",
       "       n_clusters=3, n_init=10, n_jobs=None, precompute_distances='auto',\n",
       "       random_state=None, tol=0.0001, verbose=0)"
      ]
     },
     "execution_count": 141,
     "metadata": {},
     "output_type": "execute_result"
    }
   ],
   "source": [
    "# Your code here:\n",
    "from sklearn.cluster import KMeans\n",
    "cust_clust=KMeans(3)\n",
    "cust_clust.fit(customers_scale)"
   ]
  },
  {
   "cell_type": "code",
   "execution_count": 142,
   "metadata": {
    "collapsed": true
   },
   "outputs": [
    {
     "data": {
      "text/plain": [
       "array([0, 0, 2, 0, 1, 1, 0, 1, 0, 1, 0, 1, 0, 2, 1, 2, 1, 1, 1, 1, 0, 0,\n",
       "       0, 0, 2, 1, 0, 1, 0, 1, 0, 1, 0, 2, 1, 0, 1, 0, 2, 2, 1, 1, 1, 2,\n",
       "       1, 2, 1, 1, 1, 1, 2, 0, 1, 2, 0, 0, 2, 2, 2, 2, 1, 1, 2, 2, 2, 1,\n",
       "       2, 0, 1, 2, 1, 1, 1, 1, 1, 0, 0, 1, 1, 1, 1, 2, 2, 1, 2, 0, 1, 2,\n",
       "       0, 0, 2, 2, 0, 1, 1, 1, 0, 1, 1, 0, 1, 2, 0, 1, 1, 2, 0, 0, 0, 2,\n",
       "       1, 1, 1, 0, 2, 1, 1, 1, 1, 1, 1, 2, 2, 0, 0, 2, 1, 2, 0, 2, 2, 1,\n",
       "       1, 0, 1, 1, 2, 0, 1, 1, 1, 2, 1, 2, 2, 0, 1, 2, 1, 2, 1, 1, 2, 1,\n",
       "       2, 2, 2, 2, 2, 1, 0, 1, 1, 2, 0, 1, 0, 1, 1, 1, 1, 2, 0, 2, 1, 2,\n",
       "       1, 0, 1, 0, 0, 2, 1, 2, 1, 2, 1, 1, 1, 2, 2, 1, 2, 1, 2, 2, 1, 0,\n",
       "       0, 0, 1, 1, 1, 1, 1, 2, 1, 2, 1, 2, 1, 1, 1, 1, 1, 1, 2, 1, 1, 1,\n",
       "       0, 1, 0, 1, 2, 1, 2, 1, 2, 2, 1, 1, 1, 2, 2, 2, 1, 2, 0, 2, 1, 1,\n",
       "       1, 0, 2, 0, 0, 0, 1, 0, 0, 1, 0, 1, 1, 1, 0, 2, 1], dtype=int32)"
      ]
     },
     "execution_count": 142,
     "metadata": {},
     "output_type": "execute_result"
    }
   ],
   "source": [
    "cust_clust.labels_"
   ]
  },
  {
   "cell_type": "code",
   "execution_count": 144,
   "metadata": {},
   "outputs": [],
   "source": [
    "customers_scale['labels']=(cust_clust.labels_)"
   ]
  },
  {
   "cell_type": "markdown",
   "metadata": {},
   "source": [
    "Count the values in `labels`."
   ]
  },
  {
   "cell_type": "code",
   "execution_count": 145,
   "metadata": {},
   "outputs": [
    {
     "data": {
      "text/plain": [
       "1    123\n",
       "2     75\n",
       "0     61\n",
       "Name: labels, dtype: int64"
      ]
     },
     "execution_count": 145,
     "metadata": {},
     "output_type": "execute_result"
    }
   ],
   "source": [
    "# Your code here:\n",
    "customers_scale.labels.value_counts()"
   ]
  },
  {
   "cell_type": "markdown",
   "metadata": {},
   "source": [
    "# Challenge 4 - Data Clustering with DBSCAN\n",
    "\n",
    "Now let's cluster the data using DBSCAN. Use `DBSCAN(eps=0.5)` to initiate the model, then fit your scaled data. In the data returned from the `.fit` method, assign the `labels_` back to `customers['labels_DBSCAN']`. Now your original data have two labels, one from K-Means and the other from DBSCAN."
   ]
  },
  {
   "cell_type": "code",
   "execution_count": 146,
   "metadata": {
    "scrolled": true
   },
   "outputs": [],
   "source": [
    "# Your code here\n",
    "from sklearn.cluster import DBSCAN\n",
    "cust_clust=DBSCAN(eps=0.5).fit(customers_scale)"
   ]
  },
  {
   "cell_type": "code",
   "execution_count": 149,
   "metadata": {},
   "outputs": [
    {
     "data": {
      "text/plain": [
       "{-1, 0, 1}"
      ]
     },
     "execution_count": 149,
     "metadata": {},
     "output_type": "execute_result"
    }
   ],
   "source": [
    "set(cust_clust.labels_)"
   ]
  },
  {
   "cell_type": "markdown",
   "metadata": {},
   "source": [
    "Count the values in `labels_DBSCAN`."
   ]
  },
  {
   "cell_type": "code",
   "execution_count": 151,
   "metadata": {},
   "outputs": [],
   "source": [
    "# Your code here\n",
    "customers_scale['labels_DBSCAN']=(cust_clust.labels_)"
   ]
  },
  {
   "cell_type": "code",
   "execution_count": 175,
   "metadata": {},
   "outputs": [
    {
     "data": {
      "text/plain": [
       "-1    247\n",
       " 1      6\n",
       " 0      6\n",
       "Name: labels_DBSCAN, dtype: int64"
      ]
     },
     "execution_count": 175,
     "metadata": {},
     "output_type": "execute_result"
    }
   ],
   "source": [
    "customers_scale.labels_DBSCAN.value_counts()"
   ]
  },
  {
   "cell_type": "code",
   "execution_count": 166,
   "metadata": {},
   "outputs": [],
   "source": [
    "customers_scale=customers_scale.rename(columns={0:'Fresh',1:'Milk',2:'Grocery',3:'Frozen',4:'Delicassen'})"
   ]
  },
  {
   "cell_type": "code",
   "execution_count": 167,
   "metadata": {
    "collapsed": true
   },
   "outputs": [
    {
     "data": {
      "text/html": [
       "<div>\n",
       "<style scoped>\n",
       "    .dataframe tbody tr th:only-of-type {\n",
       "        vertical-align: middle;\n",
       "    }\n",
       "\n",
       "    .dataframe tbody tr th {\n",
       "        vertical-align: top;\n",
       "    }\n",
       "\n",
       "    .dataframe thead th {\n",
       "        text-align: right;\n",
       "    }\n",
       "</style>\n",
       "<table border=\"1\" class=\"dataframe\">\n",
       "  <thead>\n",
       "    <tr style=\"text-align: right;\">\n",
       "      <th></th>\n",
       "      <th>Fresh</th>\n",
       "      <th>Milk</th>\n",
       "      <th>Grocery</th>\n",
       "      <th>Frozen</th>\n",
       "      <th>Delicassen</th>\n",
       "      <th>Channel_2</th>\n",
       "      <th>Region_2</th>\n",
       "      <th>Region_3</th>\n",
       "      <th>labels</th>\n",
       "      <th>labels_DBSCAN</th>\n",
       "    </tr>\n",
       "  </thead>\n",
       "  <tbody>\n",
       "    <tr>\n",
       "      <th>0</th>\n",
       "      <td>0.724660</td>\n",
       "      <td>2.281613</td>\n",
       "      <td>0.864657</td>\n",
       "      <td>-0.946236</td>\n",
       "      <td>0.926054</td>\n",
       "      <td>1</td>\n",
       "      <td>0</td>\n",
       "      <td>1</td>\n",
       "      <td>0</td>\n",
       "      <td>-1</td>\n",
       "    </tr>\n",
       "    <tr>\n",
       "      <th>1</th>\n",
       "      <td>-0.169503</td>\n",
       "      <td>2.337307</td>\n",
       "      <td>1.426917</td>\n",
       "      <td>-0.049554</td>\n",
       "      <td>1.677466</td>\n",
       "      <td>1</td>\n",
       "      <td>0</td>\n",
       "      <td>1</td>\n",
       "      <td>0</td>\n",
       "      <td>-1</td>\n",
       "    </tr>\n",
       "    <tr>\n",
       "      <th>2</th>\n",
       "      <td>0.819621</td>\n",
       "      <td>-0.777940</td>\n",
       "      <td>-0.071042</td>\n",
       "      <td>2.639334</td>\n",
       "      <td>1.698053</td>\n",
       "      <td>0</td>\n",
       "      <td>0</td>\n",
       "      <td>1</td>\n",
       "      <td>2</td>\n",
       "      <td>-1</td>\n",
       "    </tr>\n",
       "    <tr>\n",
       "      <th>3</th>\n",
       "      <td>0.205880</td>\n",
       "      <td>1.776389</td>\n",
       "      <td>0.182493</td>\n",
       "      <td>-0.684414</td>\n",
       "      <td>1.119912</td>\n",
       "      <td>1</td>\n",
       "      <td>0</td>\n",
       "      <td>1</td>\n",
       "      <td>0</td>\n",
       "      <td>-1</td>\n",
       "    </tr>\n",
       "    <tr>\n",
       "      <th>4</th>\n",
       "      <td>0.638143</td>\n",
       "      <td>-0.053556</td>\n",
       "      <td>0.700489</td>\n",
       "      <td>-0.792155</td>\n",
       "      <td>-0.434379</td>\n",
       "      <td>1</td>\n",
       "      <td>0</td>\n",
       "      <td>1</td>\n",
       "      <td>1</td>\n",
       "      <td>-1</td>\n",
       "    </tr>\n",
       "    <tr>\n",
       "      <th>...</th>\n",
       "      <td>...</td>\n",
       "      <td>...</td>\n",
       "      <td>...</td>\n",
       "      <td>...</td>\n",
       "      <td>...</td>\n",
       "      <td>...</td>\n",
       "      <td>...</td>\n",
       "      <td>...</td>\n",
       "      <td>...</td>\n",
       "      <td>...</td>\n",
       "    </tr>\n",
       "    <tr>\n",
       "      <th>254</th>\n",
       "      <td>2.070684</td>\n",
       "      <td>-0.790236</td>\n",
       "      <td>0.078277</td>\n",
       "      <td>-0.914377</td>\n",
       "      <td>-0.691712</td>\n",
       "      <td>0</td>\n",
       "      <td>0</td>\n",
       "      <td>1</td>\n",
       "      <td>1</td>\n",
       "      <td>-1</td>\n",
       "    </tr>\n",
       "    <tr>\n",
       "      <th>255</th>\n",
       "      <td>-0.978106</td>\n",
       "      <td>-0.046685</td>\n",
       "      <td>-0.835290</td>\n",
       "      <td>-0.177569</td>\n",
       "      <td>1.116480</td>\n",
       "      <td>0</td>\n",
       "      <td>0</td>\n",
       "      <td>1</td>\n",
       "      <td>1</td>\n",
       "      <td>-1</td>\n",
       "    </tr>\n",
       "    <tr>\n",
       "      <th>256</th>\n",
       "      <td>1.371861</td>\n",
       "      <td>0.207916</td>\n",
       "      <td>0.985962</td>\n",
       "      <td>-0.671671</td>\n",
       "      <td>0.068278</td>\n",
       "      <td>0</td>\n",
       "      <td>0</td>\n",
       "      <td>1</td>\n",
       "      <td>0</td>\n",
       "      <td>-1</td>\n",
       "    </tr>\n",
       "    <tr>\n",
       "      <th>257</th>\n",
       "      <td>0.345613</td>\n",
       "      <td>-0.494045</td>\n",
       "      <td>-0.628260</td>\n",
       "      <td>-0.468933</td>\n",
       "      <td>2.276194</td>\n",
       "      <td>0</td>\n",
       "      <td>0</td>\n",
       "      <td>1</td>\n",
       "      <td>2</td>\n",
       "      <td>-1</td>\n",
       "    </tr>\n",
       "    <tr>\n",
       "      <th>258</th>\n",
       "      <td>-0.849844</td>\n",
       "      <td>-0.596392</td>\n",
       "      <td>-0.550378</td>\n",
       "      <td>-1.032545</td>\n",
       "      <td>-1.280147</td>\n",
       "      <td>0</td>\n",
       "      <td>0</td>\n",
       "      <td>1</td>\n",
       "      <td>1</td>\n",
       "      <td>-1</td>\n",
       "    </tr>\n",
       "  </tbody>\n",
       "</table>\n",
       "<p>259 rows × 10 columns</p>\n",
       "</div>"
      ],
      "text/plain": [
       "        Fresh      Milk   Grocery    Frozen  Delicassen  Channel_2  Region_2  \\\n",
       "0    0.724660  2.281613  0.864657 -0.946236    0.926054          1         0   \n",
       "1   -0.169503  2.337307  1.426917 -0.049554    1.677466          1         0   \n",
       "2    0.819621 -0.777940 -0.071042  2.639334    1.698053          0         0   \n",
       "3    0.205880  1.776389  0.182493 -0.684414    1.119912          1         0   \n",
       "4    0.638143 -0.053556  0.700489 -0.792155   -0.434379          1         0   \n",
       "..        ...       ...       ...       ...         ...        ...       ...   \n",
       "254  2.070684 -0.790236  0.078277 -0.914377   -0.691712          0         0   \n",
       "255 -0.978106 -0.046685 -0.835290 -0.177569    1.116480          0         0   \n",
       "256  1.371861  0.207916  0.985962 -0.671671    0.068278          0         0   \n",
       "257  0.345613 -0.494045 -0.628260 -0.468933    2.276194          0         0   \n",
       "258 -0.849844 -0.596392 -0.550378 -1.032545   -1.280147          0         0   \n",
       "\n",
       "     Region_3  labels  labels_DBSCAN  \n",
       "0           1       0             -1  \n",
       "1           1       0             -1  \n",
       "2           1       2             -1  \n",
       "3           1       0             -1  \n",
       "4           1       1             -1  \n",
       "..        ...     ...            ...  \n",
       "254         1       1             -1  \n",
       "255         1       1             -1  \n",
       "256         1       0             -1  \n",
       "257         1       2             -1  \n",
       "258         1       1             -1  \n",
       "\n",
       "[259 rows x 10 columns]"
      ]
     },
     "execution_count": 167,
     "metadata": {},
     "output_type": "execute_result"
    }
   ],
   "source": [
    "customers_scale"
   ]
  },
  {
   "cell_type": "markdown",
   "metadata": {},
   "source": [
    "# Challenge 5 - Compare K-Means with DBSCAN\n",
    "\n",
    "Now we want to visually compare how K-Means and DBSCAN have clustered our data. We will create scatter plots for several columns. For each of the following column pairs, plot a scatter plot using `labels` and another using `labels_DBSCAN`. Put them side by side to compare. Which clustering algorithm makes better sense?\n",
    "\n",
    "Columns to visualize:\n",
    "\n",
    "* `Detergents_Paper` as X and `Milk` as y\n",
    "* `Grocery` as X and `Fresh` as y\n",
    "* `Frozen` as X and `Delicassen` as y"
   ]
  },
  {
   "cell_type": "markdown",
   "metadata": {},
   "source": [
    "Visualize `Detergents_Paper` as X and `Milk` as y by `labels` and `labels_DBSCAN` respectively"
   ]
  },
  {
   "cell_type": "code",
   "execution_count": 171,
   "metadata": {},
   "outputs": [
    {
     "data": {
      "text/plain": [
       "'Dropped Detergants Earlier'"
      ]
     },
     "execution_count": 171,
     "metadata": {},
     "output_type": "execute_result"
    }
   ],
   "source": [
    "# Your code here:\n",
    "'Dropped Detergants Earlier'"
   ]
  },
  {
   "cell_type": "markdown",
   "metadata": {},
   "source": [
    "Visualize `Grocery` as X and `Fresh` as y by `labels` and `labels_DBSCAN` respectively"
   ]
  },
  {
   "cell_type": "code",
   "execution_count": 169,
   "metadata": {},
   "outputs": [
    {
     "data": {
      "image/png": "[encoded data removed]",
      "text/plain": [
       "<Figure size 402.375x360 with 1 Axes>"
      ]
     },
     "metadata": {
      "needs_background": "light"
     },
     "output_type": "display_data"
    }
   ],
   "source": [
    "# Your code here:\n",
    "sns.lmplot(data=customers_scale, y='Fresh',x='Grocery', hue='labels', fit_reg=False);"
   ]
  },
  {
   "cell_type": "code",
   "execution_count": 170,
   "metadata": {},
   "outputs": [
    {
     "data": {
      "image/png": "[encoded data removed]",
      "text/plain": [
       "<Figure size 444.625x360 with 1 Axes>"
      ]
     },
     "metadata": {
      "needs_background": "light"
     },
     "output_type": "display_data"
    }
   ],
   "source": [
    "sns.lmplot(data=customers_scale, y='Fresh',x='Grocery', hue='labels_DBSCAN', fit_reg=False);"
   ]
  },
  {
   "cell_type": "markdown",
   "metadata": {},
   "source": [
    "Visualize `Frozen` as X and `Delicassen` as y by `labels` and `labels_DBSCAN` respectively"
   ]
  },
  {
   "cell_type": "code",
   "execution_count": 178,
   "metadata": {},
   "outputs": [
    {
     "data": {
      "image/png": "[encoded data removed]",
      "text/plain": [
       "<Figure size 402.375x360 with 1 Axes>"
      ]
     },
     "metadata": {
      "needs_background": "light"
     },
     "output_type": "display_data"
    }
   ],
   "source": [
    "# Your code here:\n",
    "sns.lmplot(data=customers_scale, y='Frozen',x='Delicassen', hue='labels', fit_reg=False);"
   ]
  },
  {
   "cell_type": "code",
   "execution_count": 179,
   "metadata": {},
   "outputs": [
    {
     "data": {
      "image/png": "[encoded data removed]",
      "text/plain": [
       "<Figure size 444.625x360 with 1 Axes>"
      ]
     },
     "metadata": {
      "needs_background": "light"
     },
     "output_type": "display_data"
    }
   ],
   "source": [
    "sns.lmplot(data=customers_scale, y='Frozen',x='Delicassen', hue='labels_DBSCAN', fit_reg=False);"
   ]
  },
  {
   "cell_type": "markdown",
   "metadata": {},
   "source": [
    "Let's use a groupby to see how the mean differs between the groups. Group `customers` by `labels` and `labels_DBSCAN` respectively and compute the means for all columns."
   ]
  },
  {
   "cell_type": "code",
   "execution_count": 183,
   "metadata": {},
   "outputs": [
    {
     "data": {
      "text/html": [
       "<div>\n",
       "<style scoped>\n",
       "    .dataframe tbody tr th:only-of-type {\n",
       "        vertical-align: middle;\n",
       "    }\n",
       "\n",
       "    .dataframe tbody tr th {\n",
       "        vertical-align: top;\n",
       "    }\n",
       "\n",
       "    .dataframe thead th {\n",
       "        text-align: right;\n",
       "    }\n",
       "</style>\n",
       "<table border=\"1\" class=\"dataframe\">\n",
       "  <thead>\n",
       "    <tr style=\"text-align: right;\">\n",
       "      <th></th>\n",
       "      <th>Fresh</th>\n",
       "      <th>Milk</th>\n",
       "      <th>Grocery</th>\n",
       "      <th>Frozen</th>\n",
       "      <th>Delicassen</th>\n",
       "      <th>Channel_2</th>\n",
       "      <th>Region_2</th>\n",
       "      <th>Region_3</th>\n",
       "      <th>labels_DBSCAN</th>\n",
       "    </tr>\n",
       "    <tr>\n",
       "      <th>labels</th>\n",
       "      <th></th>\n",
       "      <th></th>\n",
       "      <th></th>\n",
       "      <th></th>\n",
       "      <th></th>\n",
       "      <th></th>\n",
       "      <th></th>\n",
       "      <th></th>\n",
       "      <th></th>\n",
       "    </tr>\n",
       "  </thead>\n",
       "  <tbody>\n",
       "    <tr>\n",
       "      <th>0</th>\n",
       "      <td>-0.184279</td>\n",
       "      <td>1.413287</td>\n",
       "      <td>1.437113</td>\n",
       "      <td>-0.375303</td>\n",
       "      <td>0.579231</td>\n",
       "      <td>0.721311</td>\n",
       "      <td>0.065574</td>\n",
       "      <td>0.803279</td>\n",
       "      <td>-1.000000</td>\n",
       "    </tr>\n",
       "    <tr>\n",
       "      <th>1</th>\n",
       "      <td>-0.297186</td>\n",
       "      <td>-0.348836</td>\n",
       "      <td>-0.362744</td>\n",
       "      <td>-0.471932</td>\n",
       "      <td>-0.411756</td>\n",
       "      <td>0.089431</td>\n",
       "      <td>0.089431</td>\n",
       "      <td>0.739837</td>\n",
       "      <td>-0.853659</td>\n",
       "    </tr>\n",
       "    <tr>\n",
       "      <th>2</th>\n",
       "      <td>0.637266</td>\n",
       "      <td>-0.577384</td>\n",
       "      <td>-0.573952</td>\n",
       "      <td>1.079215</td>\n",
       "      <td>0.204172</td>\n",
       "      <td>0.013333</td>\n",
       "      <td>0.133333</td>\n",
       "      <td>0.613333</td>\n",
       "      <td>-1.000000</td>\n",
       "    </tr>\n",
       "  </tbody>\n",
       "</table>\n",
       "</div>"
      ],
      "text/plain": [
       "           Fresh      Milk   Grocery    Frozen  Delicassen  Channel_2  \\\n",
       "labels                                                                  \n",
       "0      -0.184279  1.413287  1.437113 -0.375303    0.579231   0.721311   \n",
       "1      -0.297186 -0.348836 -0.362744 -0.471932   -0.411756   0.089431   \n",
       "2       0.637266 -0.577384 -0.573952  1.079215    0.204172   0.013333   \n",
       "\n",
       "        Region_2  Region_3  labels_DBSCAN  \n",
       "labels                                     \n",
       "0       0.065574  0.803279      -1.000000  \n",
       "1       0.089431  0.739837      -0.853659  \n",
       "2       0.133333  0.613333      -1.000000  "
      ]
     },
     "execution_count": 183,
     "metadata": {},
     "output_type": "execute_result"
    }
   ],
   "source": [
    "# Your code here:\n",
    "customers_scale.groupby('labels').agg('mean')"
   ]
  },
  {
   "cell_type": "code",
   "execution_count": 184,
   "metadata": {},
   "outputs": [
    {
     "data": {
      "text/html": [
       "<div>\n",
       "<style scoped>\n",
       "    .dataframe tbody tr th:only-of-type {\n",
       "        vertical-align: middle;\n",
       "    }\n",
       "\n",
       "    .dataframe tbody tr th {\n",
       "        vertical-align: top;\n",
       "    }\n",
       "\n",
       "    .dataframe thead th {\n",
       "        text-align: right;\n",
       "    }\n",
       "</style>\n",
       "<table border=\"1\" class=\"dataframe\">\n",
       "  <thead>\n",
       "    <tr style=\"text-align: right;\">\n",
       "      <th></th>\n",
       "      <th>Fresh</th>\n",
       "      <th>Milk</th>\n",
       "      <th>Grocery</th>\n",
       "      <th>Frozen</th>\n",
       "      <th>Delicassen</th>\n",
       "      <th>Channel_2</th>\n",
       "      <th>Region_2</th>\n",
       "      <th>Region_3</th>\n",
       "      <th>labels</th>\n",
       "    </tr>\n",
       "    <tr>\n",
       "      <th>labels_DBSCAN</th>\n",
       "      <th></th>\n",
       "      <th></th>\n",
       "      <th></th>\n",
       "      <th></th>\n",
       "      <th></th>\n",
       "      <th></th>\n",
       "      <th></th>\n",
       "      <th></th>\n",
       "      <th></th>\n",
       "    </tr>\n",
       "  </thead>\n",
       "  <tbody>\n",
       "    <tr>\n",
       "      <th>-1</th>\n",
       "      <td>0.015603</td>\n",
       "      <td>0.038155</td>\n",
       "      <td>0.038851</td>\n",
       "      <td>0.020843</td>\n",
       "      <td>0.031202</td>\n",
       "      <td>0.226721</td>\n",
       "      <td>0.101215</td>\n",
       "      <td>0.704453</td>\n",
       "      <td>1.05668</td>\n",
       "    </tr>\n",
       "    <tr>\n",
       "      <th>0</th>\n",
       "      <td>-0.137903</td>\n",
       "      <td>-0.630990</td>\n",
       "      <td>-0.606128</td>\n",
       "      <td>-0.590769</td>\n",
       "      <td>-0.577914</td>\n",
       "      <td>0.000000</td>\n",
       "      <td>0.000000</td>\n",
       "      <td>1.000000</td>\n",
       "      <td>1.00000</td>\n",
       "    </tr>\n",
       "    <tr>\n",
       "      <th>1</th>\n",
       "      <td>-0.504416</td>\n",
       "      <td>-0.939718</td>\n",
       "      <td>-0.993248</td>\n",
       "      <td>-0.267256</td>\n",
       "      <td>-0.706580</td>\n",
       "      <td>0.000000</td>\n",
       "      <td>0.000000</td>\n",
       "      <td>1.000000</td>\n",
       "      <td>1.00000</td>\n",
       "    </tr>\n",
       "  </tbody>\n",
       "</table>\n",
       "</div>"
      ],
      "text/plain": [
       "                  Fresh      Milk   Grocery    Frozen  Delicassen  Channel_2  \\\n",
       "labels_DBSCAN                                                                  \n",
       "-1             0.015603  0.038155  0.038851  0.020843    0.031202   0.226721   \n",
       " 0            -0.137903 -0.630990 -0.606128 -0.590769   -0.577914   0.000000   \n",
       " 1            -0.504416 -0.939718 -0.993248 -0.267256   -0.706580   0.000000   \n",
       "\n",
       "               Region_2  Region_3   labels  \n",
       "labels_DBSCAN                               \n",
       "-1             0.101215  0.704453  1.05668  \n",
       " 0             0.000000  1.000000  1.00000  \n",
       " 1             0.000000  1.000000  1.00000  "
      ]
     },
     "execution_count": 184,
     "metadata": {},
     "output_type": "execute_result"
    }
   ],
   "source": [
    "customers_scale.groupby('labels_DBSCAN').agg('mean')"
   ]
  },
  {
   "cell_type": "markdown",
   "metadata": {},
   "source": [
    "Which algorithm appears to perform better?"
   ]
  },
  {
   "cell_type": "code",
   "execution_count": 180,
   "metadata": {},
   "outputs": [
    {
     "data": {
      "text/plain": [
       "'First Algorithm'"
      ]
     },
     "execution_count": 180,
     "metadata": {},
     "output_type": "execute_result"
    }
   ],
   "source": [
    "# Your observations here\n",
    "'First Algorithm'"
   ]
  },
  {
   "cell_type": "markdown",
   "metadata": {},
   "source": [
    "# Bonus Challenge 2 - Changing K-Means Number of Clusters\n",
    "\n",
    "As we mentioned earlier, we don't need to worry about the number of clusters with DBSCAN because it automatically decides that based on the parameters we send to it. But with K-Means, we have to supply the `n_clusters` param (if you don't supply `n_clusters`, the algorithm will use `8` by default). You need to know that the optimal number of clusters differs case by case based on the dataset. K-Means can perform badly if the wrong number of clusters is used.\n",
    "\n",
    "In advanced machine learning, data scientists try different numbers of clusters and evaluate the results with statistical measures (read [here](https://en.wikipedia.org/wiki/Cluster_analysis#External_evaluation)). We are not using statistical measures today but we'll use our eyes instead. In the cells below, experiment with different number of clusters and visualize with scatter plots. What number of clusters seems to work best for K-Means?"
   ]
  },
  {
   "cell_type": "code",
   "execution_count": 200,
   "metadata": {},
   "outputs": [
    {
     "data": {
      "image/png": "[encoded data removed]",
      "text/plain": [
       "<Figure size 402.375x360 with 1 Axes>"
      ]
     },
     "metadata": {
      "needs_background": "light"
     },
     "output_type": "display_data"
    }
   ],
   "source": [
    "# Your code here\n",
    "cust_clust=KMeans(2)\n",
    "cust_clust.fit(customers_scale)\n",
    "customers_scale['labels']=(cust_clust.labels_)\n",
    "sns.lmplot(data=customers_scale, y='Fresh',x='Grocery', hue='labels', fit_reg=False);"
   ]
  },
  {
   "cell_type": "code",
   "execution_count": 194,
   "metadata": {},
   "outputs": [
    {
     "data": {
      "text/plain": [
       "'2 Clusters'"
      ]
     },
     "execution_count": 194,
     "metadata": {},
     "output_type": "execute_result"
    }
   ],
   "source": [
    "# Your comment here\n",
    "'2 Clusters'"
   ]
  },
  {
   "cell_type": "markdown",
   "metadata": {},
   "source": [
    "# Bonus Challenge 3 - Changing DBSCAN `eps` and `min_samples`\n",
    "\n",
    "Experiment changing the `eps` and `min_samples` params for DBSCAN. See how the results differ with scatter plot visualization."
   ]
  },
  {
   "cell_type": "code",
   "execution_count": 214,
   "metadata": {},
   "outputs": [
    {
     "data": {
      "image/png": "[encoded data removed]",
      "text/plain": [
       "<Figure size 444.625x360 with 1 Axes>"
      ]
     },
     "metadata": {
      "needs_background": "light"
     },
     "output_type": "display_data"
    }
   ],
   "source": [
    "# Your code here\n",
    "from sklearn.cluster import DBSCAN\n",
    "cust_clust=DBSCAN(eps=0.5, min_samples=6).fit(customers_scale)\n",
    "customers_scale['labels_DBSCAN']=(cust_clust.labels_)\n",
    "sns.lmplot(data=customers_scale, y='Frozen',x='Delicassen', hue='labels_DBSCAN', fit_reg=False);"
   ]
  },
  {
   "cell_type": "code",
   "execution_count": null,
   "metadata": {},
   "outputs": [],
   "source": [
    "# Your comment here"
   ]
  }
 ],
 "metadata": {
  "kernelspec": {
   "display_name": "Python 3",
   "language": "python",
   "name": "python3"
  },
  "language_info": {
   "codemirror_mode": {
    "name": "ipython",
    "version": 3
   },
   "file_extension": ".py",
   "mimetype": "text/x-python",
   "name": "python",
   "nbconvert_exporter": "python",
   "pygments_lexer": "ipython3",
   "version": "3.7.6"
  }
 },
 "nbformat": 4,
 "nbformat_minor": 2
}
