{
 "cells": [
  {
   "cell_type": "markdown",
   "metadata": {},
   "source": [
    "### Libraries"
   ]
  },
  {
   "cell_type": "code",
   "execution_count": 3,
   "metadata": {},
   "outputs": [],
   "source": [
    "import pandas as pd \n",
    "import numpy as np\n",
    "import matplotlib.pyplot as plt\n",
    "import seaborn as sns\n",
    "\n",
    "from sklearn.feature_selection import SelectKBest, f_classif\n",
    "from sklearn.cluster import AgglomerativeClustering, KMeans\n",
    "from sklearn.decomposition import PCA\n",
    "from sklearn.metrics import silhouette_score, davies_bouldin_score\n",
    "from kmodes.kmodes import KModes\n",
    "from sklearn import metrics\n",
    "\n",
    "from sklearn.metrics import multilabel_confusion_matrix, accuracy_score\n",
    "from sklearn.model_selection import cross_val_score, RepeatedStratifiedKFold, train_test_split\n",
    "from imblearn.pipeline import Pipeline\n",
    "from imblearn.over_sampling import SMOTE\n",
    "from imblearn.under_sampling import RandomUnderSampler\n",
    "from sklearn.multioutput import MultiOutputClassifier\n",
    "from sklearn.ensemble import RandomForestClassifier\n",
    "from sklearn.model_selection import GridSearchCV\n",
    "\n",
    "from yellowbrick.model_selection import FeatureImportances\n",
    "\n",
    "import warnings\n",
    "warnings.filterwarnings('ignore')\n",
    "\n",
    "sns.set()\n",
    "%matplotlib inline"
   ]
  },
  {
   "cell_type": "code",
   "execution_count": 4,
   "metadata": {},
   "outputs": [],
   "source": [
    "df=pd.read_csv('/Users/apple/Desktop/googleplaystore.csv')"
   ]
  },
  {
   "cell_type": "code",
   "execution_count": 5,
   "metadata": {},
   "outputs": [
    {
     "data": {
      "text/html": [
       "<div>\n",
       "<style scoped>\n",
       "    .dataframe tbody tr th:only-of-type {\n",
       "        vertical-align: middle;\n",
       "    }\n",
       "\n",
       "    .dataframe tbody tr th {\n",
       "        vertical-align: top;\n",
       "    }\n",
       "\n",
       "    .dataframe thead th {\n",
       "        text-align: right;\n",
       "    }\n",
       "</style>\n",
       "<table border=\"1\" class=\"dataframe\">\n",
       "  <thead>\n",
       "    <tr style=\"text-align: right;\">\n",
       "      <th></th>\n",
       "      <th>App</th>\n",
       "      <th>Category</th>\n",
       "      <th>Rating</th>\n",
       "      <th>Reviews</th>\n",
       "      <th>Size</th>\n",
       "      <th>Installs</th>\n",
       "      <th>Type</th>\n",
       "      <th>Price</th>\n",
       "      <th>Content Rating</th>\n",
       "      <th>Genres</th>\n",
       "      <th>Last Updated</th>\n",
       "      <th>Current Ver</th>\n",
       "      <th>Android Ver</th>\n",
       "    </tr>\n",
       "  </thead>\n",
       "  <tbody>\n",
       "    <tr>\n",
       "      <th>0</th>\n",
       "      <td>Photo Editor &amp; Candy Camera &amp; Grid &amp; ScrapBook</td>\n",
       "      <td>ART_AND_DESIGN</td>\n",
       "      <td>4.1</td>\n",
       "      <td>159</td>\n",
       "      <td>19M</td>\n",
       "      <td>10,000+</td>\n",
       "      <td>Free</td>\n",
       "      <td>0</td>\n",
       "      <td>Everyone</td>\n",
       "      <td>Art &amp; Design</td>\n",
       "      <td>January 7, 2018</td>\n",
       "      <td>1.0.0</td>\n",
       "      <td>4.0.3 and up</td>\n",
       "    </tr>\n",
       "    <tr>\n",
       "      <th>1</th>\n",
       "      <td>Coloring book moana</td>\n",
       "      <td>ART_AND_DESIGN</td>\n",
       "      <td>3.9</td>\n",
       "      <td>967</td>\n",
       "      <td>14M</td>\n",
       "      <td>500,000+</td>\n",
       "      <td>Free</td>\n",
       "      <td>0</td>\n",
       "      <td>Everyone</td>\n",
       "      <td>Art &amp; Design;Pretend Play</td>\n",
       "      <td>January 15, 2018</td>\n",
       "      <td>2.0.0</td>\n",
       "      <td>4.0.3 and up</td>\n",
       "    </tr>\n",
       "    <tr>\n",
       "      <th>2</th>\n",
       "      <td>U Launcher Lite – FREE Live Cool Themes, Hide ...</td>\n",
       "      <td>ART_AND_DESIGN</td>\n",
       "      <td>4.7</td>\n",
       "      <td>87510</td>\n",
       "      <td>8.7M</td>\n",
       "      <td>5,000,000+</td>\n",
       "      <td>Free</td>\n",
       "      <td>0</td>\n",
       "      <td>Everyone</td>\n",
       "      <td>Art &amp; Design</td>\n",
       "      <td>August 1, 2018</td>\n",
       "      <td>1.2.4</td>\n",
       "      <td>4.0.3 and up</td>\n",
       "    </tr>\n",
       "    <tr>\n",
       "      <th>3</th>\n",
       "      <td>Sketch - Draw &amp; Paint</td>\n",
       "      <td>ART_AND_DESIGN</td>\n",
       "      <td>4.5</td>\n",
       "      <td>215644</td>\n",
       "      <td>25M</td>\n",
       "      <td>50,000,000+</td>\n",
       "      <td>Free</td>\n",
       "      <td>0</td>\n",
       "      <td>Teen</td>\n",
       "      <td>Art &amp; Design</td>\n",
       "      <td>June 8, 2018</td>\n",
       "      <td>Varies with device</td>\n",
       "      <td>4.2 and up</td>\n",
       "    </tr>\n",
       "    <tr>\n",
       "      <th>4</th>\n",
       "      <td>Pixel Draw - Number Art Coloring Book</td>\n",
       "      <td>ART_AND_DESIGN</td>\n",
       "      <td>4.3</td>\n",
       "      <td>967</td>\n",
       "      <td>2.8M</td>\n",
       "      <td>100,000+</td>\n",
       "      <td>Free</td>\n",
       "      <td>0</td>\n",
       "      <td>Everyone</td>\n",
       "      <td>Art &amp; Design;Creativity</td>\n",
       "      <td>June 20, 2018</td>\n",
       "      <td>1.1</td>\n",
       "      <td>4.4 and up</td>\n",
       "    </tr>\n",
       "    <tr>\n",
       "      <th>...</th>\n",
       "      <td>...</td>\n",
       "      <td>...</td>\n",
       "      <td>...</td>\n",
       "      <td>...</td>\n",
       "      <td>...</td>\n",
       "      <td>...</td>\n",
       "      <td>...</td>\n",
       "      <td>...</td>\n",
       "      <td>...</td>\n",
       "      <td>...</td>\n",
       "      <td>...</td>\n",
       "      <td>...</td>\n",
       "      <td>...</td>\n",
       "    </tr>\n",
       "    <tr>\n",
       "      <th>10836</th>\n",
       "      <td>Sya9a Maroc - FR</td>\n",
       "      <td>FAMILY</td>\n",
       "      <td>4.5</td>\n",
       "      <td>38</td>\n",
       "      <td>53M</td>\n",
       "      <td>5,000+</td>\n",
       "      <td>Free</td>\n",
       "      <td>0</td>\n",
       "      <td>Everyone</td>\n",
       "      <td>Education</td>\n",
       "      <td>July 25, 2017</td>\n",
       "      <td>1.48</td>\n",
       "      <td>4.1 and up</td>\n",
       "    </tr>\n",
       "    <tr>\n",
       "      <th>10837</th>\n",
       "      <td>Fr. Mike Schmitz Audio Teachings</td>\n",
       "      <td>FAMILY</td>\n",
       "      <td>5.0</td>\n",
       "      <td>4</td>\n",
       "      <td>3.6M</td>\n",
       "      <td>100+</td>\n",
       "      <td>Free</td>\n",
       "      <td>0</td>\n",
       "      <td>Everyone</td>\n",
       "      <td>Education</td>\n",
       "      <td>July 6, 2018</td>\n",
       "      <td>1.0</td>\n",
       "      <td>4.1 and up</td>\n",
       "    </tr>\n",
       "    <tr>\n",
       "      <th>10838</th>\n",
       "      <td>Parkinson Exercices FR</td>\n",
       "      <td>MEDICAL</td>\n",
       "      <td>NaN</td>\n",
       "      <td>3</td>\n",
       "      <td>9.5M</td>\n",
       "      <td>1,000+</td>\n",
       "      <td>Free</td>\n",
       "      <td>0</td>\n",
       "      <td>Everyone</td>\n",
       "      <td>Medical</td>\n",
       "      <td>January 20, 2017</td>\n",
       "      <td>1.0</td>\n",
       "      <td>2.2 and up</td>\n",
       "    </tr>\n",
       "    <tr>\n",
       "      <th>10839</th>\n",
       "      <td>The SCP Foundation DB fr nn5n</td>\n",
       "      <td>BOOKS_AND_REFERENCE</td>\n",
       "      <td>4.5</td>\n",
       "      <td>114</td>\n",
       "      <td>Varies with device</td>\n",
       "      <td>1,000+</td>\n",
       "      <td>Free</td>\n",
       "      <td>0</td>\n",
       "      <td>Mature 17+</td>\n",
       "      <td>Books &amp; Reference</td>\n",
       "      <td>January 19, 2015</td>\n",
       "      <td>Varies with device</td>\n",
       "      <td>Varies with device</td>\n",
       "    </tr>\n",
       "    <tr>\n",
       "      <th>10840</th>\n",
       "      <td>iHoroscope - 2018 Daily Horoscope &amp; Astrology</td>\n",
       "      <td>LIFESTYLE</td>\n",
       "      <td>4.5</td>\n",
       "      <td>398307</td>\n",
       "      <td>19M</td>\n",
       "      <td>10,000,000+</td>\n",
       "      <td>Free</td>\n",
       "      <td>0</td>\n",
       "      <td>Everyone</td>\n",
       "      <td>Lifestyle</td>\n",
       "      <td>July 25, 2018</td>\n",
       "      <td>Varies with device</td>\n",
       "      <td>Varies with device</td>\n",
       "    </tr>\n",
       "  </tbody>\n",
       "</table>\n",
       "<p>10841 rows × 13 columns</p>\n",
       "</div>"
      ],
      "text/plain": [
       "                                                     App             Category  \\\n",
       "0         Photo Editor & Candy Camera & Grid & ScrapBook       ART_AND_DESIGN   \n",
       "1                                    Coloring book moana       ART_AND_DESIGN   \n",
       "2      U Launcher Lite – FREE Live Cool Themes, Hide ...       ART_AND_DESIGN   \n",
       "3                                  Sketch - Draw & Paint       ART_AND_DESIGN   \n",
       "4                  Pixel Draw - Number Art Coloring Book       ART_AND_DESIGN   \n",
       "...                                                  ...                  ...   \n",
       "10836                                   Sya9a Maroc - FR               FAMILY   \n",
       "10837                   Fr. Mike Schmitz Audio Teachings               FAMILY   \n",
       "10838                             Parkinson Exercices FR              MEDICAL   \n",
       "10839                      The SCP Foundation DB fr nn5n  BOOKS_AND_REFERENCE   \n",
       "10840      iHoroscope - 2018 Daily Horoscope & Astrology            LIFESTYLE   \n",
       "\n",
       "       Rating Reviews                Size     Installs  Type Price  \\\n",
       "0         4.1     159                 19M      10,000+  Free     0   \n",
       "1         3.9     967                 14M     500,000+  Free     0   \n",
       "2         4.7   87510                8.7M   5,000,000+  Free     0   \n",
       "3         4.5  215644                 25M  50,000,000+  Free     0   \n",
       "4         4.3     967                2.8M     100,000+  Free     0   \n",
       "...       ...     ...                 ...          ...   ...   ...   \n",
       "10836     4.5      38                 53M       5,000+  Free     0   \n",
       "10837     5.0       4                3.6M         100+  Free     0   \n",
       "10838     NaN       3                9.5M       1,000+  Free     0   \n",
       "10839     4.5     114  Varies with device       1,000+  Free     0   \n",
       "10840     4.5  398307                 19M  10,000,000+  Free     0   \n",
       "\n",
       "      Content Rating                     Genres      Last Updated  \\\n",
       "0           Everyone               Art & Design   January 7, 2018   \n",
       "1           Everyone  Art & Design;Pretend Play  January 15, 2018   \n",
       "2           Everyone               Art & Design    August 1, 2018   \n",
       "3               Teen               Art & Design      June 8, 2018   \n",
       "4           Everyone    Art & Design;Creativity     June 20, 2018   \n",
       "...              ...                        ...               ...   \n",
       "10836       Everyone                  Education     July 25, 2017   \n",
       "10837       Everyone                  Education      July 6, 2018   \n",
       "10838       Everyone                    Medical  January 20, 2017   \n",
       "10839     Mature 17+          Books & Reference  January 19, 2015   \n",
       "10840       Everyone                  Lifestyle     July 25, 2018   \n",
       "\n",
       "              Current Ver         Android Ver  \n",
       "0                   1.0.0        4.0.3 and up  \n",
       "1                   2.0.0        4.0.3 and up  \n",
       "2                   1.2.4        4.0.3 and up  \n",
       "3      Varies with device          4.2 and up  \n",
       "4                     1.1          4.4 and up  \n",
       "...                   ...                 ...  \n",
       "10836                1.48          4.1 and up  \n",
       "10837                 1.0          4.1 and up  \n",
       "10838                 1.0          2.2 and up  \n",
       "10839  Varies with device  Varies with device  \n",
       "10840  Varies with device  Varies with device  \n",
       "\n",
       "[10841 rows x 13 columns]"
      ]
     },
     "execution_count": 5,
     "metadata": {},
     "output_type": "execute_result"
    }
   ],
   "source": [
    "df"
   ]
  },
  {
   "cell_type": "code",
   "execution_count": 6,
   "metadata": {},
   "outputs": [
    {
     "data": {
      "text/plain": [
       "Index(['App', 'Category', 'Rating', 'Reviews', 'Size', 'Installs', 'Type',\n",
       "       'Price', 'Content Rating', 'Genres', 'Last Updated', 'Current Ver',\n",
       "       'Android Ver'],\n",
       "      dtype='object')"
      ]
     },
     "execution_count": 6,
     "metadata": {},
     "output_type": "execute_result"
    }
   ],
   "source": [
    "df.columns"
   ]
  },
  {
   "cell_type": "markdown",
   "metadata": {},
   "source": [
    "### Data Cleaning & Transformation"
   ]
  },
  {
   "cell_type": "code",
   "execution_count": 7,
   "metadata": {},
   "outputs": [],
   "source": [
    "df.drop(['App','Last Updated'], axis=1, inplace=True)"
   ]
  },
  {
   "cell_type": "code",
   "execution_count": 8,
   "metadata": {},
   "outputs": [],
   "source": [
    "# Dropping a category of value 1.9\n",
    "df.drop(df.loc[df['Category']=='1.9'].index, axis=0, inplace=True)"
   ]
  },
  {
   "cell_type": "code",
   "execution_count": 9,
   "metadata": {},
   "outputs": [],
   "source": [
    "# Dropping rows with rating value = nan\n",
    "df.drop(df.loc[df.Rating.isna()].index, axis=0, inplace=True)"
   ]
  },
  {
   "cell_type": "code",
   "execution_count": 10,
   "metadata": {},
   "outputs": [],
   "source": [
    "# Converting data type to float\n",
    "df.Rating=df.Rating.astype(float)"
   ]
  },
  {
   "cell_type": "code",
   "execution_count": 11,
   "metadata": {},
   "outputs": [],
   "source": [
    "# Converting data type to Integer\n",
    "df.Reviews=df.Reviews.astype(int)"
   ]
  },
  {
   "cell_type": "code",
   "execution_count": 12,
   "metadata": {},
   "outputs": [
    {
     "data": {
      "text/plain": [
       "dtype('O')"
      ]
     },
     "execution_count": 12,
     "metadata": {},
     "output_type": "execute_result"
    }
   ],
   "source": [
    "df.Size.dtype"
   ]
  },
  {
   "cell_type": "code",
   "execution_count": 13,
   "metadata": {},
   "outputs": [],
   "source": [
    "# Dropping rows where Size is defined as ' Varies with Device'\n",
    "df.drop(df.loc[df.Size=='Varies with device'].index, axis=0, inplace=True)"
   ]
  },
  {
   "cell_type": "code",
   "execution_count": 14,
   "metadata": {},
   "outputs": [],
   "source": [
    "# Converting Size column to Float \n",
    "df.Size=df.Size.apply(lambda x: round(float(x.strip('M')),2) if 'M' in x else round(float(x.strip('k'))/1000),2)"
   ]
  },
  {
   "cell_type": "code",
   "execution_count": 15,
   "metadata": {
    "collapsed": true
   },
   "outputs": [
    {
     "data": {
      "text/plain": [
       "1,000,000+        1302\n",
       "100,000+          1037\n",
       "10,000+            969\n",
       "10,000,000+        825\n",
       "1,000+             690\n",
       "5,000,000+         535\n",
       "500,000+           491\n",
       "50,000+            437\n",
       "5,000+             420\n",
       "100+               303\n",
       "100,000,000+       201\n",
       "500+               197\n",
       "50,000,000+        147\n",
       "10+                 67\n",
       "50+                 56\n",
       "500,000,000+        30\n",
       "1,000,000,000+      10\n",
       "5+                   9\n",
       "1+                   3\n",
       "Name: Installs, dtype: int64"
      ]
     },
     "execution_count": 15,
     "metadata": {},
     "output_type": "execute_result"
    }
   ],
   "source": [
    "df.Installs.value_counts()"
   ]
  },
  {
   "cell_type": "code",
   "execution_count": 16,
   "metadata": {},
   "outputs": [],
   "source": [
    "# Converting Installs Columns to Integer\n",
    "df.Installs=df.Installs.apply(lambda x: int(x.strip('+').replace(',','')))"
   ]
  },
  {
   "cell_type": "code",
   "execution_count": 17,
   "metadata": {},
   "outputs": [],
   "source": [
    "# Ordinal Binning of Total # of Installs:\n",
    "# 1-10,000 (1), 10,000 - 100,000 (2), 100,000 - 1,000,000 (3), 1,000,000 - 10,000,000 (4), 10,000,000 - 1,000,000,000 (5)\n",
    "df.Installs=df.Installs.apply(lambda x: 0 if (1<=x<10000) else 1 if (10000<=x<100000) \n",
    "                              else 2 if (100000<=x<1000000) else 3 if (1000000<=x<10000000) else 4)"
   ]
  },
  {
   "cell_type": "code",
   "execution_count": 18,
   "metadata": {
    "collapsed": true
   },
   "outputs": [
    {
     "data": {
      "text/plain": [
       "array(['Free', 'Paid'], dtype=object)"
      ]
     },
     "execution_count": 18,
     "metadata": {},
     "output_type": "execute_result"
    }
   ],
   "source": [
    "df.Type.unique()"
   ]
  },
  {
   "cell_type": "code",
   "execution_count": 19,
   "metadata": {},
   "outputs": [],
   "source": [
    "# Converting Type to numerical\n",
    "dct={'Free':0, 'Paid':1}\n",
    "df.Type=df.Type.map(dct)"
   ]
  },
  {
   "cell_type": "code",
   "execution_count": 20,
   "metadata": {},
   "outputs": [],
   "source": [
    "# Converting Price to float type\n",
    "df.Price=df.Price.str.strip('$').astype(float)"
   ]
  },
  {
   "cell_type": "code",
   "execution_count": 21,
   "metadata": {},
   "outputs": [],
   "source": [
    "dum_lst=[]\n",
    "dum_lst.append('Content Rating')"
   ]
  },
  {
   "cell_type": "code",
   "execution_count": 22,
   "metadata": {},
   "outputs": [
    {
     "data": {
      "text/plain": [
       "['Action',\n",
       " 'Action;Action & Adventure',\n",
       " 'Adventure',\n",
       " 'Adventure;Action & Adventure',\n",
       " 'Adventure;Brain Games',\n",
       " 'Adventure;Education',\n",
       " 'Arcade',\n",
       " 'Arcade;Action & Adventure',\n",
       " 'Arcade;Pretend Play',\n",
       " 'Art & Design',\n",
       " 'Art & Design;Creativity',\n",
       " 'Art & Design;Pretend Play',\n",
       " 'Auto & Vehicles',\n",
       " 'Beauty',\n",
       " 'Board',\n",
       " 'Board;Action & Adventure',\n",
       " 'Board;Brain Games',\n",
       " 'Board;Pretend Play',\n",
       " 'Books & Reference',\n",
       " 'Books & Reference;Education',\n",
       " 'Business',\n",
       " 'Card',\n",
       " 'Card;Action & Adventure',\n",
       " 'Card;Brain Games',\n",
       " 'Casino',\n",
       " 'Casual',\n",
       " 'Casual;Action & Adventure',\n",
       " 'Casual;Brain Games',\n",
       " 'Casual;Creativity',\n",
       " 'Casual;Education',\n",
       " 'Casual;Music & Video',\n",
       " 'Casual;Pretend Play',\n",
       " 'Comics',\n",
       " 'Comics;Creativity',\n",
       " 'Communication',\n",
       " 'Dating',\n",
       " 'Education',\n",
       " 'Education;Action & Adventure',\n",
       " 'Education;Brain Games',\n",
       " 'Education;Creativity',\n",
       " 'Education;Education',\n",
       " 'Education;Music & Video',\n",
       " 'Education;Pretend Play',\n",
       " 'Educational',\n",
       " 'Educational;Action & Adventure',\n",
       " 'Educational;Brain Games',\n",
       " 'Educational;Creativity',\n",
       " 'Educational;Education',\n",
       " 'Educational;Pretend Play',\n",
       " 'Entertainment',\n",
       " 'Entertainment;Action & Adventure',\n",
       " 'Entertainment;Brain Games',\n",
       " 'Entertainment;Creativity',\n",
       " 'Entertainment;Education',\n",
       " 'Entertainment;Music & Video',\n",
       " 'Entertainment;Pretend Play',\n",
       " 'Events',\n",
       " 'Finance',\n",
       " 'Food & Drink',\n",
       " 'Health & Fitness',\n",
       " 'Health & Fitness;Action & Adventure',\n",
       " 'Health & Fitness;Education',\n",
       " 'House & Home',\n",
       " 'Libraries & Demo',\n",
       " 'Lifestyle',\n",
       " 'Lifestyle;Pretend Play',\n",
       " 'Maps & Navigation',\n",
       " 'Medical',\n",
       " 'Music',\n",
       " 'Music & Audio;Music & Video',\n",
       " 'Music;Music & Video',\n",
       " 'News & Magazines',\n",
       " 'Parenting',\n",
       " 'Parenting;Brain Games',\n",
       " 'Parenting;Education',\n",
       " 'Parenting;Music & Video',\n",
       " 'Personalization',\n",
       " 'Photography',\n",
       " 'Productivity',\n",
       " 'Puzzle',\n",
       " 'Puzzle;Action & Adventure',\n",
       " 'Puzzle;Brain Games',\n",
       " 'Puzzle;Creativity',\n",
       " 'Puzzle;Education',\n",
       " 'Racing',\n",
       " 'Racing;Action & Adventure',\n",
       " 'Racing;Pretend Play',\n",
       " 'Role Playing',\n",
       " 'Role Playing;Action & Adventure',\n",
       " 'Role Playing;Brain Games',\n",
       " 'Role Playing;Pretend Play',\n",
       " 'Shopping',\n",
       " 'Simulation',\n",
       " 'Simulation;Action & Adventure',\n",
       " 'Simulation;Education',\n",
       " 'Simulation;Pretend Play',\n",
       " 'Social',\n",
       " 'Sports',\n",
       " 'Sports;Action & Adventure',\n",
       " 'Strategy',\n",
       " 'Strategy;Action & Adventure',\n",
       " 'Strategy;Creativity',\n",
       " 'Strategy;Education',\n",
       " 'Tools',\n",
       " 'Travel & Local',\n",
       " 'Travel & Local;Action & Adventure',\n",
       " 'Trivia',\n",
       " 'Video Players & Editors',\n",
       " 'Video Players & Editors;Creativity',\n",
       " 'Video Players & Editors;Music & Video',\n",
       " 'Weather',\n",
       " 'Word']"
      ]
     },
     "execution_count": 22,
     "metadata": {},
     "output_type": "execute_result"
    }
   ],
   "source": [
    "# Listing categories in Genres in alphabetical order to see repetition and aggregate them in one \n",
    "sorted(df.Genres.value_counts().to_dict().keys())"
   ]
  },
  {
   "cell_type": "code",
   "execution_count": 23,
   "metadata": {},
   "outputs": [],
   "source": [
    "# Re-adjusting categories in Genres\n",
    "df.Genres=df.Genres.apply(lambda x: 'Action' if 'Action' in x else 'Adventure' if 'Adventure' in x else 'Arcade' if 'Arcade' in x\n",
    "                else 'Art & Design' if 'Art & Design' in x else 'Board' if 'Board' in x else 'Books & Reference' if 'Books & Reference' in x\n",
    "                else 'Card' if 'Card' in x else 'Casual' if 'Casual' in x else 'Comics' if 'Comics' in x\n",
    "                else 'Education' if 'Education' in x else 'Education' if 'Educational' in x \n",
    "                else 'Entertainment' if 'Entertainment' in x else 'Health & Fitness' if 'Health & Fitness' in x\n",
    "                else 'Lifestyle' if 'Lifestyle' in x else 'Music' if 'Music' in x else 'Parenting' if 'Parenting' in x\n",
    "                else 'Puzzle' if 'Puzzle' in x else 'Racing' if 'Racing' in x else 'Role Playing' if 'Role Playing' in x\n",
    "                else 'Simulation' if 'Simulation' in x else 'Sports' if 'Sports' in x else 'Strategy' if 'Strategy' in x\n",
    "                else 'Travel & Local' if 'Travel & Local' in x else 'Video Players & Editors' if 'Video Players & Editors' in x\n",
    "                else x)"
   ]
  },
  {
   "cell_type": "code",
   "execution_count": 24,
   "metadata": {
    "collapsed": true
   },
   "outputs": [
    {
     "data": {
      "text/plain": [
       "Tools                      634\n",
       "Education                  592\n",
       "Entertainment              474\n",
       "Action                     438\n",
       "Medical                    324\n",
       "Lifestyle                  280\n",
       "Personalization            280\n",
       "Finance                    266\n",
       "Sports                     261\n",
       "Business                   246\n",
       "Photography                236\n",
       "Productivity               235\n",
       "Health & Fitness           223\n",
       "Casual                     215\n",
       "Communication              211\n",
       "Arcade                     187\n",
       "Simulation                 185\n",
       "Shopping                   179\n",
       "Social                     177\n",
       "Dating                     173\n",
       "News & Magazines           169\n",
       "Travel & Local             159\n",
       "Books & Reference          146\n",
       "Puzzle                     128\n",
       "Video Players & Editors    117\n",
       "Role Playing               109\n",
       "Strategy                    97\n",
       "Maps & Navigation           95\n",
       "Food & Drink                84\n",
       "Racing                      84\n",
       "Adventure                   71\n",
       "Auto & Vehicles             63\n",
       "Libraries & Demo            62\n",
       "Art & Design                61\n",
       "House & Home                56\n",
       "Board                       53\n",
       "Weather                     51\n",
       "Comics                      49\n",
       "Card                        40\n",
       "Events                      38\n",
       "Beauty                      37\n",
       "Parenting                   36\n",
       "Casino                      32\n",
       "Trivia                      27\n",
       "Music                       25\n",
       "Word                        24\n",
       "Name: Genres, dtype: int64"
      ]
     },
     "execution_count": 24,
     "metadata": {},
     "output_type": "execute_result"
    }
   ],
   "source": [
    "df.Genres.value_counts()"
   ]
  },
  {
   "cell_type": "code",
   "execution_count": 25,
   "metadata": {},
   "outputs": [],
   "source": [
    "# Dropping all columns with Android version = Varies with Device and nan\n",
    "df.drop(df.loc[df['Android Ver']=='Varies with device'].index, axis=0, inplace=True)"
   ]
  },
  {
   "cell_type": "code",
   "execution_count": 26,
   "metadata": {},
   "outputs": [],
   "source": [
    "df.drop(df.loc[(df['Android Ver']=='nan')].index, axis=0, inplace=True)"
   ]
  },
  {
   "cell_type": "code",
   "execution_count": 27,
   "metadata": {},
   "outputs": [],
   "source": [
    "# Keeping the numerical part of Android Ver \n",
    "df['Android Ver']=df['Android Ver'].apply(str).apply(lambda x: x.split(' ')[0])"
   ]
  },
  {
   "cell_type": "code",
   "execution_count": 28,
   "metadata": {},
   "outputs": [],
   "source": [
    "# Choosing first 3 values\n",
    "df['Android Ver']=df['Android Ver'].apply(str).apply(lambda x: x[:3])"
   ]
  },
  {
   "cell_type": "code",
   "execution_count": 29,
   "metadata": {},
   "outputs": [],
   "source": [
    "# Converting to numerical values\n",
    "df['Android Ver']=df['Android Ver'].astype(float)"
   ]
  },
  {
   "cell_type": "code",
   "execution_count": 30,
   "metadata": {
    "collapsed": true
   },
   "outputs": [
    {
     "data": {
      "text/plain": [
       "4.0    2305\n",
       "4.1    1931\n",
       "4.4     812\n",
       "2.3     801\n",
       "5.0     493\n",
       "4.2     318\n",
       "3.0     211\n",
       "2.2     206\n",
       "4.3     195\n",
       "2.1     113\n",
       "1.6      87\n",
       "6.0      45\n",
       "7.0      40\n",
       "2.0      34\n",
       "3.2      31\n",
       "5.1      17\n",
       "1.5      15\n",
       "3.1       8\n",
       "8.0       5\n",
       "7.1       2\n",
       "1.0       2\n",
       "Name: Android Ver, dtype: int64"
      ]
     },
     "execution_count": 30,
     "metadata": {},
     "output_type": "execute_result"
    }
   ],
   "source": [
    "df['Android Ver'].value_counts()"
   ]
  },
  {
   "cell_type": "code",
   "execution_count": 31,
   "metadata": {},
   "outputs": [],
   "source": [
    "labels=[1,2,3,4,5,6,7,8]\n",
    "cutoffs=(1,2,3,4,5,6,7,8,9)\n",
    "df['Android_Ver_bin']=pd.cut(df['Android Ver'], cutoffs, right=False, labels=labels)\n",
    "df.drop('Android Ver', axis=1, inplace=True)"
   ]
  },
  {
   "cell_type": "code",
   "execution_count": 32,
   "metadata": {},
   "outputs": [],
   "source": [
    "df.drop(df.loc[(df['Android_Ver_bin'].isna())].index, axis=0, inplace=True)"
   ]
  },
  {
   "cell_type": "code",
   "execution_count": 33,
   "metadata": {},
   "outputs": [],
   "source": [
    "df['Android_Ver_bin']=df['Android_Ver_bin'].astype(int)"
   ]
  },
  {
   "cell_type": "code",
   "execution_count": 34,
   "metadata": {},
   "outputs": [],
   "source": [
    "# Choosing the first 3 digits of the version number\n",
    "df['Current Ver']=df['Current Ver'].apply(str).apply(lambda x: x[:3])"
   ]
  },
  {
   "cell_type": "code",
   "execution_count": 35,
   "metadata": {},
   "outputs": [],
   "source": [
    "# Dropping any row that contained an alphabatical value or any value with signs\n",
    "df.drop(df.loc[df['Current Ver'].str.contains('[a-zA-Z]') | df['Current Ver'].str.contains('_') | df['Current Ver'].str.contains('[|]')].index, axis=0, inplace=True)"
   ]
  },
  {
   "cell_type": "code",
   "execution_count": 36,
   "metadata": {},
   "outputs": [],
   "source": [
    "df['Current Ver']=df['Current Ver'].apply(lambda x: x.replace(',','.').replace(';','.'))"
   ]
  },
  {
   "cell_type": "code",
   "execution_count": 37,
   "metadata": {},
   "outputs": [],
   "source": [
    "df['Current Ver']=df['Current Ver'].astype(float)"
   ]
  },
  {
   "cell_type": "code",
   "execution_count": 38,
   "metadata": {},
   "outputs": [],
   "source": [
    "df['Current Ver']=df['Current Ver'].apply(lambda x: int(x))"
   ]
  },
  {
   "cell_type": "code",
   "execution_count": 39,
   "metadata": {
    "scrolled": true
   },
   "outputs": [
    {
     "data": {
      "image/png": "[encoded data removed]",
      "text/plain": [
       "<Figure size 1800x720 with 2 Axes>"
      ]
     },
     "metadata": {
      "needs_background": "light"
     },
     "output_type": "display_data"
    }
   ],
   "source": [
    "# Correlation Heatmap\n",
    "plt.figure(figsize=(25,10))\n",
    "cmap = sns.diverging_palette(220, 10, as_cmap=True)\n",
    "\n",
    "mask = np.zeros_like(abs(df.drop('Installs',axis=1).corr()))\n",
    "mask[np.triu_indices_from(mask)] = True\n",
    "sns.heatmap(abs(df.drop('Installs',axis=1).corr()), annot=True, mask=mask, cmap=cmap, square=True)\n",
    "plt.title('Features Correlation Heatmap\\n', fontsize=16)\n",
    "plt.xticks(fontsize= 14, rotation=45)\n",
    "plt.yticks(fontsize= 14, rotation=45);"
   ]
  },
  {
   "cell_type": "code",
   "execution_count": 41,
   "metadata": {
    "scrolled": true
   },
   "outputs": [
    {
     "data": {
      "image/png": "[encoded data removed]",
      "text/plain": [
       "<Figure size 1440x1440 with 8 Axes>"
      ]
     },
     "metadata": {
      "needs_background": "light"
     },
     "output_type": "display_data"
    }
   ],
   "source": [
    "# Box-Plot to identify outliers in Features\n",
    "num_features=list(set(df._get_numeric_data().columns))\n",
    "\n",
    "fig, axes=plt.subplots(2,4,figsize=(20,20))\n",
    "for idx,feature in enumerate(num_features):\n",
    "    ax=axes[idx//4,idx%4]\n",
    "    sns.boxplot(y=df[feature], ax=ax, palette='PuBu')\n",
    "    ax.set_xlabel('', size=10)\n",
    "    ax.set_ylabel(f'{feature}\\n', size=15)\n",
    "fig.tight_layout();"
   ]
  },
  {
   "cell_type": "code",
   "execution_count": 42,
   "metadata": {
    "scrolled": true
   },
   "outputs": [
    {
     "data": {
      "text/html": [
       "<div>\n",
       "<style scoped>\n",
       "    .dataframe tbody tr th:only-of-type {\n",
       "        vertical-align: middle;\n",
       "    }\n",
       "\n",
       "    .dataframe tbody tr th {\n",
       "        vertical-align: top;\n",
       "    }\n",
       "\n",
       "    .dataframe thead th {\n",
       "        text-align: right;\n",
       "    }\n",
       "</style>\n",
       "<table border=\"1\" class=\"dataframe\">\n",
       "  <thead>\n",
       "    <tr style=\"text-align: right;\">\n",
       "      <th></th>\n",
       "      <th>Category</th>\n",
       "      <th>Rating</th>\n",
       "      <th>Reviews</th>\n",
       "      <th>Size</th>\n",
       "      <th>Installs</th>\n",
       "      <th>Type</th>\n",
       "      <th>Price</th>\n",
       "      <th>Content Rating</th>\n",
       "      <th>Genres</th>\n",
       "      <th>Current Ver</th>\n",
       "      <th>Android_Ver_bin</th>\n",
       "      <th>Outlier</th>\n",
       "    </tr>\n",
       "  </thead>\n",
       "  <tbody>\n",
       "    <tr>\n",
       "      <th>209</th>\n",
       "      <td>BUSINESS</td>\n",
       "      <td>3.1</td>\n",
       "      <td>4034</td>\n",
       "      <td>0.0</td>\n",
       "      <td>2</td>\n",
       "      <td>0</td>\n",
       "      <td>0.00</td>\n",
       "      <td>Everyone</td>\n",
       "      <td>Business</td>\n",
       "      <td>3</td>\n",
       "      <td>2</td>\n",
       "      <td>Rating</td>\n",
       "    </tr>\n",
       "    <tr>\n",
       "      <th>477</th>\n",
       "      <td>DATING</td>\n",
       "      <td>2.6</td>\n",
       "      <td>57</td>\n",
       "      <td>6.2</td>\n",
       "      <td>0</td>\n",
       "      <td>1</td>\n",
       "      <td>6.99</td>\n",
       "      <td>Everyone</td>\n",
       "      <td>Dating</td>\n",
       "      <td>1</td>\n",
       "      <td>4</td>\n",
       "      <td>Rating</td>\n",
       "    </tr>\n",
       "    <tr>\n",
       "      <th>492</th>\n",
       "      <td>DATING</td>\n",
       "      <td>3.1</td>\n",
       "      <td>31320</td>\n",
       "      <td>53.0</td>\n",
       "      <td>3</td>\n",
       "      <td>0</td>\n",
       "      <td>0.00</td>\n",
       "      <td>Mature 17+</td>\n",
       "      <td>Dating</td>\n",
       "      <td>6</td>\n",
       "      <td>4</td>\n",
       "      <td>Rating</td>\n",
       "    </tr>\n",
       "    <tr>\n",
       "      <th>514</th>\n",
       "      <td>DATING</td>\n",
       "      <td>3.0</td>\n",
       "      <td>1146</td>\n",
       "      <td>1.4</td>\n",
       "      <td>2</td>\n",
       "      <td>0</td>\n",
       "      <td>0.00</td>\n",
       "      <td>Mature 17+</td>\n",
       "      <td>Dating</td>\n",
       "      <td>2</td>\n",
       "      <td>4</td>\n",
       "      <td>Rating</td>\n",
       "    </tr>\n",
       "    <tr>\n",
       "      <th>518</th>\n",
       "      <td>DATING</td>\n",
       "      <td>1.9</td>\n",
       "      <td>953</td>\n",
       "      <td>19.0</td>\n",
       "      <td>2</td>\n",
       "      <td>0</td>\n",
       "      <td>0.00</td>\n",
       "      <td>Mature 17+</td>\n",
       "      <td>Dating</td>\n",
       "      <td>6</td>\n",
       "      <td>5</td>\n",
       "      <td>Rating</td>\n",
       "    </tr>\n",
       "    <tr>\n",
       "      <th>...</th>\n",
       "      <td>...</td>\n",
       "      <td>...</td>\n",
       "      <td>...</td>\n",
       "      <td>...</td>\n",
       "      <td>...</td>\n",
       "      <td>...</td>\n",
       "      <td>...</td>\n",
       "      <td>...</td>\n",
       "      <td>...</td>\n",
       "      <td>...</td>\n",
       "      <td>...</td>\n",
       "      <td>...</td>\n",
       "    </tr>\n",
       "    <tr>\n",
       "      <th>10814</th>\n",
       "      <td>FAMILY</td>\n",
       "      <td>4.0</td>\n",
       "      <td>785</td>\n",
       "      <td>31.0</td>\n",
       "      <td>1</td>\n",
       "      <td>0</td>\n",
       "      <td>0.00</td>\n",
       "      <td>Teen</td>\n",
       "      <td>Entertainment</td>\n",
       "      <td>1</td>\n",
       "      <td>3</td>\n",
       "      <td>Android_Ver_bin</td>\n",
       "    </tr>\n",
       "    <tr>\n",
       "      <th>10817</th>\n",
       "      <td>TOOLS</td>\n",
       "      <td>4.0</td>\n",
       "      <td>885</td>\n",
       "      <td>8.0</td>\n",
       "      <td>2</td>\n",
       "      <td>0</td>\n",
       "      <td>0.00</td>\n",
       "      <td>Everyone</td>\n",
       "      <td>Tools</td>\n",
       "      <td>1</td>\n",
       "      <td>5</td>\n",
       "      <td>Android_Ver_bin</td>\n",
       "    </tr>\n",
       "    <tr>\n",
       "      <th>10830</th>\n",
       "      <td>NEWS_AND_MAGAZINES</td>\n",
       "      <td>3.8</td>\n",
       "      <td>881</td>\n",
       "      <td>2.3</td>\n",
       "      <td>2</td>\n",
       "      <td>0</td>\n",
       "      <td>0.00</td>\n",
       "      <td>Everyone</td>\n",
       "      <td>News &amp; Magazines</td>\n",
       "      <td>1</td>\n",
       "      <td>1</td>\n",
       "      <td>Android_Ver_bin</td>\n",
       "    </tr>\n",
       "    <tr>\n",
       "      <th>10832</th>\n",
       "      <td>WEATHER</td>\n",
       "      <td>3.8</td>\n",
       "      <td>1195</td>\n",
       "      <td>1.0</td>\n",
       "      <td>2</td>\n",
       "      <td>0</td>\n",
       "      <td>0.00</td>\n",
       "      <td>Everyone</td>\n",
       "      <td>Weather</td>\n",
       "      <td>6</td>\n",
       "      <td>2</td>\n",
       "      <td>Android_Ver_bin</td>\n",
       "    </tr>\n",
       "    <tr>\n",
       "      <th>10833</th>\n",
       "      <td>BOOKS_AND_REFERENCE</td>\n",
       "      <td>4.8</td>\n",
       "      <td>44</td>\n",
       "      <td>1.0</td>\n",
       "      <td>0</td>\n",
       "      <td>0</td>\n",
       "      <td>0.00</td>\n",
       "      <td>Everyone</td>\n",
       "      <td>Books &amp; Reference</td>\n",
       "      <td>0</td>\n",
       "      <td>2</td>\n",
       "      <td>Android_Ver_bin</td>\n",
       "    </tr>\n",
       "  </tbody>\n",
       "</table>\n",
       "<p>5908 rows × 12 columns</p>\n",
       "</div>"
      ],
      "text/plain": [
       "                  Category  Rating Reviews  Size Installs Type  Price  \\\n",
       "209               BUSINESS     3.1    4034   0.0        2    0   0.00   \n",
       "477                 DATING     2.6      57   6.2        0    1   6.99   \n",
       "492                 DATING     3.1   31320  53.0        3    0   0.00   \n",
       "514                 DATING     3.0    1146   1.4        2    0   0.00   \n",
       "518                 DATING     1.9     953  19.0        2    0   0.00   \n",
       "...                    ...     ...     ...   ...      ...  ...    ...   \n",
       "10814               FAMILY     4.0     785  31.0        1    0   0.00   \n",
       "10817                TOOLS     4.0     885   8.0        2    0   0.00   \n",
       "10830   NEWS_AND_MAGAZINES     3.8     881   2.3        2    0   0.00   \n",
       "10832              WEATHER     3.8    1195   1.0        2    0   0.00   \n",
       "10833  BOOKS_AND_REFERENCE     4.8      44   1.0        0    0   0.00   \n",
       "\n",
       "      Content Rating             Genres Current Ver Android_Ver_bin  \\\n",
       "209         Everyone           Business           3               2   \n",
       "477         Everyone             Dating           1               4   \n",
       "492       Mature 17+             Dating           6               4   \n",
       "514       Mature 17+             Dating           2               4   \n",
       "518       Mature 17+             Dating           6               5   \n",
       "...              ...                ...         ...             ...   \n",
       "10814           Teen      Entertainment           1               3   \n",
       "10817       Everyone              Tools           1               5   \n",
       "10830       Everyone   News & Magazines           1               1   \n",
       "10832       Everyone            Weather           6               2   \n",
       "10833       Everyone  Books & Reference           0               2   \n",
       "\n",
       "               Outlier  \n",
       "209             Rating  \n",
       "477             Rating  \n",
       "492             Rating  \n",
       "514             Rating  \n",
       "518             Rating  \n",
       "...                ...  \n",
       "10814  Android_Ver_bin  \n",
       "10817  Android_Ver_bin  \n",
       "10830  Android_Ver_bin  \n",
       "10832  Android_Ver_bin  \n",
       "10833  Android_Ver_bin  \n",
       "\n",
       "[5908 rows x 12 columns]"
      ]
     },
     "execution_count": 42,
     "metadata": {},
     "output_type": "execute_result"
    }
   ],
   "source": [
    "# 1st method - IQR Method (Not Adopted)\n",
    "stats=df.describe()\n",
    "stats=stats.T\n",
    "stats['IQR']=stats['75%']-stats['25%']\n",
    "\n",
    "outliers = pd.DataFrame(columns=df.columns)\n",
    "\n",
    "for col in stats.index:\n",
    "    iqr=stats.IQR[col]\n",
    "    cutoff=iqr*1.6\n",
    "    lower=stats.at[col,'25%']-cutoff\n",
    "    upper=stats.at[col,'75%']+cutoff\n",
    "    results=df[(df[col]<lower)|(df[col]>upper)].copy()\n",
    "    results['Outlier']=col\n",
    "    outliers=outliers.append(results)\n",
    "    \n",
    "outliers"
   ]
  },
  {
   "cell_type": "code",
   "execution_count": 43,
   "metadata": {},
   "outputs": [
    {
     "data": {
      "text/plain": [
       "(6236, 11)"
      ]
     },
     "execution_count": 43,
     "metadata": {},
     "output_type": "execute_result"
    }
   ],
   "source": [
    "# 2nd Method (1) - 95th Quantile\n",
    "lst=['Current Ver', 'Reviews', 'Size', 'Price']\n",
    "\n",
    "for i in lst:\n",
    "    df=df.drop(df.loc[df[i] > df[i].quantile(q=0.95)].index)\n",
    "\n",
    "df.shape"
   ]
  },
  {
   "cell_type": "code",
   "execution_count": 44,
   "metadata": {},
   "outputs": [
    {
     "data": {
      "text/plain": [
       "(5925, 11)"
      ]
     },
     "execution_count": 44,
     "metadata": {},
     "output_type": "execute_result"
    }
   ],
   "source": [
    "# 2nd Method (2) - 5th Quantile\n",
    "lst=['Rating']\n",
    "\n",
    "for i in lst:\n",
    "    df=df.drop(df.loc[df[i] < df[i].quantile(q=0.05)].index)\n",
    "\n",
    "df.shape"
   ]
  },
  {
   "cell_type": "code",
   "execution_count": 46,
   "metadata": {
    "scrolled": true
   },
   "outputs": [
    {
     "data": {
      "image/png": "[encoded data removed]",
      "text/plain": [
       "<Figure size 1440x1440 with 8 Axes>"
      ]
     },
     "metadata": {
      "needs_background": "light"
     },
     "output_type": "display_data"
    }
   ],
   "source": [
    "# Box-Plot to check distribution after removing top and lowest 5% of certain features\n",
    "num_features=list(set(df._get_numeric_data().columns))\n",
    "\n",
    "fig, axes=plt.subplots(2,4,figsize=(20,20))\n",
    "for idx,feature in enumerate(num_features):\n",
    "    ax=axes[idx//4,idx%4]\n",
    "    sns.boxplot(y=df[feature], ax=ax, palette='PuBu')\n",
    "    ax.set_xlabel('', size=10)\n",
    "    ax.set_ylabel(f'{feature}\\n', size=15)\n",
    "fig.tight_layout();"
   ]
  },
  {
   "cell_type": "code",
   "execution_count": 47,
   "metadata": {},
   "outputs": [],
   "source": [
    "df=df.reset_index(drop=True)"
   ]
  },
  {
   "cell_type": "code",
   "execution_count": 48,
   "metadata": {
    "scrolled": true
   },
   "outputs": [
    {
     "data": {
      "text/plain": [
       "<matplotlib.axes._subplots.AxesSubplot at 0x1a2290d9d0>"
      ]
     },
     "execution_count": 48,
     "metadata": {},
     "output_type": "execute_result"
    },
    {
     "data": {
      "image/png": "[encoded data removed]",
      "text/plain": [
       "<Figure size 432x288 with 1 Axes>"
      ]
     },
     "metadata": {
      "needs_background": "light"
     },
     "output_type": "display_data"
    }
   ],
   "source": [
    "# Feature Scaling - Log\n",
    "df.Reviews=round(df.Reviews.apply(np.log),2)\n",
    "df.Reviews.hist(bins=50)"
   ]
  },
  {
   "cell_type": "code",
   "execution_count": 49,
   "metadata": {},
   "outputs": [],
   "source": [
    "df.rename(columns={'Content Rating':'Content_Rating', 'Current Ver':'Current_Ver'}, inplace=True)"
   ]
  },
  {
   "cell_type": "code",
   "execution_count": 50,
   "metadata": {},
   "outputs": [],
   "source": [
    "dum_lst=['Category', 'Content_Rating', 'Current_Ver', 'Android_Ver_bin', 'Genres']"
   ]
  },
  {
   "cell_type": "code",
   "execution_count": 51,
   "metadata": {},
   "outputs": [
    {
     "data": {
      "text/plain": [
       "3    25.721519\n",
       "0    22.413502\n",
       "2    21.535865\n",
       "1    19.527426\n",
       "4    10.801688\n",
       "Name: Installs, dtype: float64"
      ]
     },
     "execution_count": 51,
     "metadata": {},
     "output_type": "execute_result"
    }
   ],
   "source": [
    "df.Installs.value_counts(normalize=True)*100"
   ]
  },
  {
   "cell_type": "code",
   "execution_count": 52,
   "metadata": {},
   "outputs": [
    {
     "data": {
      "text/html": [
       "<div>\n",
       "<style scoped>\n",
       "    .dataframe tbody tr th:only-of-type {\n",
       "        vertical-align: middle;\n",
       "    }\n",
       "\n",
       "    .dataframe tbody tr th {\n",
       "        vertical-align: top;\n",
       "    }\n",
       "\n",
       "    .dataframe thead th {\n",
       "        text-align: right;\n",
       "    }\n",
       "</style>\n",
       "<table border=\"1\" class=\"dataframe\">\n",
       "  <thead>\n",
       "    <tr style=\"text-align: right;\">\n",
       "      <th></th>\n",
       "      <th>Category</th>\n",
       "      <th>Rating</th>\n",
       "      <th>Reviews</th>\n",
       "      <th>Size</th>\n",
       "      <th>Installs</th>\n",
       "      <th>Type</th>\n",
       "      <th>Price</th>\n",
       "      <th>Content_Rating</th>\n",
       "      <th>Genres</th>\n",
       "      <th>Current_Ver</th>\n",
       "      <th>Android_Ver_bin</th>\n",
       "    </tr>\n",
       "  </thead>\n",
       "  <tbody>\n",
       "    <tr>\n",
       "      <th>0</th>\n",
       "      <td>ART_AND_DESIGN</td>\n",
       "      <td>4.1</td>\n",
       "      <td>5.07</td>\n",
       "      <td>19.0</td>\n",
       "      <td>1</td>\n",
       "      <td>0</td>\n",
       "      <td>0.0</td>\n",
       "      <td>Everyone</td>\n",
       "      <td>Art &amp; Design</td>\n",
       "      <td>1</td>\n",
       "      <td>4</td>\n",
       "    </tr>\n",
       "    <tr>\n",
       "      <th>1</th>\n",
       "      <td>ART_AND_DESIGN</td>\n",
       "      <td>3.9</td>\n",
       "      <td>6.87</td>\n",
       "      <td>14.0</td>\n",
       "      <td>2</td>\n",
       "      <td>0</td>\n",
       "      <td>0.0</td>\n",
       "      <td>Everyone</td>\n",
       "      <td>Art &amp; Design</td>\n",
       "      <td>2</td>\n",
       "      <td>4</td>\n",
       "    </tr>\n",
       "    <tr>\n",
       "      <th>2</th>\n",
       "      <td>ART_AND_DESIGN</td>\n",
       "      <td>4.7</td>\n",
       "      <td>11.38</td>\n",
       "      <td>8.7</td>\n",
       "      <td>3</td>\n",
       "      <td>0</td>\n",
       "      <td>0.0</td>\n",
       "      <td>Everyone</td>\n",
       "      <td>Art &amp; Design</td>\n",
       "      <td>1</td>\n",
       "      <td>4</td>\n",
       "    </tr>\n",
       "    <tr>\n",
       "      <th>3</th>\n",
       "      <td>ART_AND_DESIGN</td>\n",
       "      <td>4.3</td>\n",
       "      <td>6.87</td>\n",
       "      <td>2.8</td>\n",
       "      <td>2</td>\n",
       "      <td>0</td>\n",
       "      <td>0.0</td>\n",
       "      <td>Everyone</td>\n",
       "      <td>Art &amp; Design</td>\n",
       "      <td>1</td>\n",
       "      <td>4</td>\n",
       "    </tr>\n",
       "    <tr>\n",
       "      <th>4</th>\n",
       "      <td>ART_AND_DESIGN</td>\n",
       "      <td>4.4</td>\n",
       "      <td>5.12</td>\n",
       "      <td>5.6</td>\n",
       "      <td>1</td>\n",
       "      <td>0</td>\n",
       "      <td>0.0</td>\n",
       "      <td>Everyone</td>\n",
       "      <td>Art &amp; Design</td>\n",
       "      <td>1</td>\n",
       "      <td>2</td>\n",
       "    </tr>\n",
       "    <tr>\n",
       "      <th>...</th>\n",
       "      <td>...</td>\n",
       "      <td>...</td>\n",
       "      <td>...</td>\n",
       "      <td>...</td>\n",
       "      <td>...</td>\n",
       "      <td>...</td>\n",
       "      <td>...</td>\n",
       "      <td>...</td>\n",
       "      <td>...</td>\n",
       "      <td>...</td>\n",
       "      <td>...</td>\n",
       "    </tr>\n",
       "    <tr>\n",
       "      <th>5920</th>\n",
       "      <td>WEATHER</td>\n",
       "      <td>3.8</td>\n",
       "      <td>7.09</td>\n",
       "      <td>1.0</td>\n",
       "      <td>2</td>\n",
       "      <td>0</td>\n",
       "      <td>0.0</td>\n",
       "      <td>Everyone</td>\n",
       "      <td>Weather</td>\n",
       "      <td>6</td>\n",
       "      <td>2</td>\n",
       "    </tr>\n",
       "    <tr>\n",
       "      <th>5921</th>\n",
       "      <td>BOOKS_AND_REFERENCE</td>\n",
       "      <td>4.8</td>\n",
       "      <td>3.78</td>\n",
       "      <td>1.0</td>\n",
       "      <td>0</td>\n",
       "      <td>0</td>\n",
       "      <td>0.0</td>\n",
       "      <td>Everyone</td>\n",
       "      <td>Books &amp; Reference</td>\n",
       "      <td>0</td>\n",
       "      <td>2</td>\n",
       "    </tr>\n",
       "    <tr>\n",
       "      <th>5922</th>\n",
       "      <td>FAMILY</td>\n",
       "      <td>4.0</td>\n",
       "      <td>1.95</td>\n",
       "      <td>2.6</td>\n",
       "      <td>0</td>\n",
       "      <td>0</td>\n",
       "      <td>0.0</td>\n",
       "      <td>Everyone</td>\n",
       "      <td>Education</td>\n",
       "      <td>1</td>\n",
       "      <td>4</td>\n",
       "    </tr>\n",
       "    <tr>\n",
       "      <th>5923</th>\n",
       "      <td>FAMILY</td>\n",
       "      <td>4.5</td>\n",
       "      <td>3.64</td>\n",
       "      <td>53.0</td>\n",
       "      <td>0</td>\n",
       "      <td>0</td>\n",
       "      <td>0.0</td>\n",
       "      <td>Everyone</td>\n",
       "      <td>Education</td>\n",
       "      <td>1</td>\n",
       "      <td>4</td>\n",
       "    </tr>\n",
       "    <tr>\n",
       "      <th>5924</th>\n",
       "      <td>FAMILY</td>\n",
       "      <td>5.0</td>\n",
       "      <td>1.39</td>\n",
       "      <td>3.6</td>\n",
       "      <td>0</td>\n",
       "      <td>0</td>\n",
       "      <td>0.0</td>\n",
       "      <td>Everyone</td>\n",
       "      <td>Education</td>\n",
       "      <td>1</td>\n",
       "      <td>4</td>\n",
       "    </tr>\n",
       "  </tbody>\n",
       "</table>\n",
       "<p>5925 rows × 11 columns</p>\n",
       "</div>"
      ],
      "text/plain": [
       "                 Category  Rating  Reviews  Size  Installs  Type  Price  \\\n",
       "0          ART_AND_DESIGN     4.1     5.07  19.0         1     0    0.0   \n",
       "1          ART_AND_DESIGN     3.9     6.87  14.0         2     0    0.0   \n",
       "2          ART_AND_DESIGN     4.7    11.38   8.7         3     0    0.0   \n",
       "3          ART_AND_DESIGN     4.3     6.87   2.8         2     0    0.0   \n",
       "4          ART_AND_DESIGN     4.4     5.12   5.6         1     0    0.0   \n",
       "...                   ...     ...      ...   ...       ...   ...    ...   \n",
       "5920              WEATHER     3.8     7.09   1.0         2     0    0.0   \n",
       "5921  BOOKS_AND_REFERENCE     4.8     3.78   1.0         0     0    0.0   \n",
       "5922               FAMILY     4.0     1.95   2.6         0     0    0.0   \n",
       "5923               FAMILY     4.5     3.64  53.0         0     0    0.0   \n",
       "5924               FAMILY     5.0     1.39   3.6         0     0    0.0   \n",
       "\n",
       "     Content_Rating             Genres  Current_Ver  Android_Ver_bin  \n",
       "0          Everyone       Art & Design            1                4  \n",
       "1          Everyone       Art & Design            2                4  \n",
       "2          Everyone       Art & Design            1                4  \n",
       "3          Everyone       Art & Design            1                4  \n",
       "4          Everyone       Art & Design            1                2  \n",
       "...             ...                ...          ...              ...  \n",
       "5920       Everyone            Weather            6                2  \n",
       "5921       Everyone  Books & Reference            0                2  \n",
       "5922       Everyone          Education            1                4  \n",
       "5923       Everyone          Education            1                4  \n",
       "5924       Everyone          Education            1                4  \n",
       "\n",
       "[5925 rows x 11 columns]"
      ]
     },
     "execution_count": 52,
     "metadata": {},
     "output_type": "execute_result"
    }
   ],
   "source": [
    "df"
   ]
  },
  {
   "cell_type": "markdown",
   "metadata": {},
   "source": [
    "### Feature Engineering"
   ]
  },
  {
   "cell_type": "code",
   "execution_count": 53,
   "metadata": {},
   "outputs": [],
   "source": [
    "df_1=pd.get_dummies(data=df, columns=dum_lst)"
   ]
  },
  {
   "cell_type": "code",
   "execution_count": 54,
   "metadata": {},
   "outputs": [
    {
     "data": {
      "text/html": [
       "<div>\n",
       "<style scoped>\n",
       "    .dataframe tbody tr th:only-of-type {\n",
       "        vertical-align: middle;\n",
       "    }\n",
       "\n",
       "    .dataframe tbody tr th {\n",
       "        vertical-align: top;\n",
       "    }\n",
       "\n",
       "    .dataframe thead th {\n",
       "        text-align: right;\n",
       "    }\n",
       "</style>\n",
       "<table border=\"1\" class=\"dataframe\">\n",
       "  <thead>\n",
       "    <tr style=\"text-align: right;\">\n",
       "      <th></th>\n",
       "      <th>Rating</th>\n",
       "      <th>Reviews</th>\n",
       "      <th>Size</th>\n",
       "      <th>Installs</th>\n",
       "      <th>Type</th>\n",
       "      <th>Price</th>\n",
       "      <th>Category_ART_AND_DESIGN</th>\n",
       "      <th>Category_AUTO_AND_VEHICLES</th>\n",
       "      <th>Category_BEAUTY</th>\n",
       "      <th>Category_BOOKS_AND_REFERENCE</th>\n",
       "      <th>...</th>\n",
       "      <th>Genres_Simulation</th>\n",
       "      <th>Genres_Social</th>\n",
       "      <th>Genres_Sports</th>\n",
       "      <th>Genres_Strategy</th>\n",
       "      <th>Genres_Tools</th>\n",
       "      <th>Genres_Travel &amp; Local</th>\n",
       "      <th>Genres_Trivia</th>\n",
       "      <th>Genres_Video Players &amp; Editors</th>\n",
       "      <th>Genres_Weather</th>\n",
       "      <th>Genres_Word</th>\n",
       "    </tr>\n",
       "  </thead>\n",
       "  <tbody>\n",
       "    <tr>\n",
       "      <th>0</th>\n",
       "      <td>4.1</td>\n",
       "      <td>5.07</td>\n",
       "      <td>19.0</td>\n",
       "      <td>1</td>\n",
       "      <td>0</td>\n",
       "      <td>0.0</td>\n",
       "      <td>1</td>\n",
       "      <td>0</td>\n",
       "      <td>0</td>\n",
       "      <td>0</td>\n",
       "      <td>...</td>\n",
       "      <td>0</td>\n",
       "      <td>0</td>\n",
       "      <td>0</td>\n",
       "      <td>0</td>\n",
       "      <td>0</td>\n",
       "      <td>0</td>\n",
       "      <td>0</td>\n",
       "      <td>0</td>\n",
       "      <td>0</td>\n",
       "      <td>0</td>\n",
       "    </tr>\n",
       "    <tr>\n",
       "      <th>1</th>\n",
       "      <td>3.9</td>\n",
       "      <td>6.87</td>\n",
       "      <td>14.0</td>\n",
       "      <td>2</td>\n",
       "      <td>0</td>\n",
       "      <td>0.0</td>\n",
       "      <td>1</td>\n",
       "      <td>0</td>\n",
       "      <td>0</td>\n",
       "      <td>0</td>\n",
       "      <td>...</td>\n",
       "      <td>0</td>\n",
       "      <td>0</td>\n",
       "      <td>0</td>\n",
       "      <td>0</td>\n",
       "      <td>0</td>\n",
       "      <td>0</td>\n",
       "      <td>0</td>\n",
       "      <td>0</td>\n",
       "      <td>0</td>\n",
       "      <td>0</td>\n",
       "    </tr>\n",
       "    <tr>\n",
       "      <th>2</th>\n",
       "      <td>4.7</td>\n",
       "      <td>11.38</td>\n",
       "      <td>8.7</td>\n",
       "      <td>3</td>\n",
       "      <td>0</td>\n",
       "      <td>0.0</td>\n",
       "      <td>1</td>\n",
       "      <td>0</td>\n",
       "      <td>0</td>\n",
       "      <td>0</td>\n",
       "      <td>...</td>\n",
       "      <td>0</td>\n",
       "      <td>0</td>\n",
       "      <td>0</td>\n",
       "      <td>0</td>\n",
       "      <td>0</td>\n",
       "      <td>0</td>\n",
       "      <td>0</td>\n",
       "      <td>0</td>\n",
       "      <td>0</td>\n",
       "      <td>0</td>\n",
       "    </tr>\n",
       "    <tr>\n",
       "      <th>3</th>\n",
       "      <td>4.3</td>\n",
       "      <td>6.87</td>\n",
       "      <td>2.8</td>\n",
       "      <td>2</td>\n",
       "      <td>0</td>\n",
       "      <td>0.0</td>\n",
       "      <td>1</td>\n",
       "      <td>0</td>\n",
       "      <td>0</td>\n",
       "      <td>0</td>\n",
       "      <td>...</td>\n",
       "      <td>0</td>\n",
       "      <td>0</td>\n",
       "      <td>0</td>\n",
       "      <td>0</td>\n",
       "      <td>0</td>\n",
       "      <td>0</td>\n",
       "      <td>0</td>\n",
       "      <td>0</td>\n",
       "      <td>0</td>\n",
       "      <td>0</td>\n",
       "    </tr>\n",
       "    <tr>\n",
       "      <th>4</th>\n",
       "      <td>4.4</td>\n",
       "      <td>5.12</td>\n",
       "      <td>5.6</td>\n",
       "      <td>1</td>\n",
       "      <td>0</td>\n",
       "      <td>0.0</td>\n",
       "      <td>1</td>\n",
       "      <td>0</td>\n",
       "      <td>0</td>\n",
       "      <td>0</td>\n",
       "      <td>...</td>\n",
       "      <td>0</td>\n",
       "      <td>0</td>\n",
       "      <td>0</td>\n",
       "      <td>0</td>\n",
       "      <td>0</td>\n",
       "      <td>0</td>\n",
       "      <td>0</td>\n",
       "      <td>0</td>\n",
       "      <td>0</td>\n",
       "      <td>0</td>\n",
       "    </tr>\n",
       "    <tr>\n",
       "      <th>...</th>\n",
       "      <td>...</td>\n",
       "      <td>...</td>\n",
       "      <td>...</td>\n",
       "      <td>...</td>\n",
       "      <td>...</td>\n",
       "      <td>...</td>\n",
       "      <td>...</td>\n",
       "      <td>...</td>\n",
       "      <td>...</td>\n",
       "      <td>...</td>\n",
       "      <td>...</td>\n",
       "      <td>...</td>\n",
       "      <td>...</td>\n",
       "      <td>...</td>\n",
       "      <td>...</td>\n",
       "      <td>...</td>\n",
       "      <td>...</td>\n",
       "      <td>...</td>\n",
       "      <td>...</td>\n",
       "      <td>...</td>\n",
       "      <td>...</td>\n",
       "    </tr>\n",
       "    <tr>\n",
       "      <th>5920</th>\n",
       "      <td>3.8</td>\n",
       "      <td>7.09</td>\n",
       "      <td>1.0</td>\n",
       "      <td>2</td>\n",
       "      <td>0</td>\n",
       "      <td>0.0</td>\n",
       "      <td>0</td>\n",
       "      <td>0</td>\n",
       "      <td>0</td>\n",
       "      <td>0</td>\n",
       "      <td>...</td>\n",
       "      <td>0</td>\n",
       "      <td>0</td>\n",
       "      <td>0</td>\n",
       "      <td>0</td>\n",
       "      <td>0</td>\n",
       "      <td>0</td>\n",
       "      <td>0</td>\n",
       "      <td>0</td>\n",
       "      <td>1</td>\n",
       "      <td>0</td>\n",
       "    </tr>\n",
       "    <tr>\n",
       "      <th>5921</th>\n",
       "      <td>4.8</td>\n",
       "      <td>3.78</td>\n",
       "      <td>1.0</td>\n",
       "      <td>0</td>\n",
       "      <td>0</td>\n",
       "      <td>0.0</td>\n",
       "      <td>0</td>\n",
       "      <td>0</td>\n",
       "      <td>0</td>\n",
       "      <td>1</td>\n",
       "      <td>...</td>\n",
       "      <td>0</td>\n",
       "      <td>0</td>\n",
       "      <td>0</td>\n",
       "      <td>0</td>\n",
       "      <td>0</td>\n",
       "      <td>0</td>\n",
       "      <td>0</td>\n",
       "      <td>0</td>\n",
       "      <td>0</td>\n",
       "      <td>0</td>\n",
       "    </tr>\n",
       "    <tr>\n",
       "      <th>5922</th>\n",
       "      <td>4.0</td>\n",
       "      <td>1.95</td>\n",
       "      <td>2.6</td>\n",
       "      <td>0</td>\n",
       "      <td>0</td>\n",
       "      <td>0.0</td>\n",
       "      <td>0</td>\n",
       "      <td>0</td>\n",
       "      <td>0</td>\n",
       "      <td>0</td>\n",
       "      <td>...</td>\n",
       "      <td>0</td>\n",
       "      <td>0</td>\n",
       "      <td>0</td>\n",
       "      <td>0</td>\n",
       "      <td>0</td>\n",
       "      <td>0</td>\n",
       "      <td>0</td>\n",
       "      <td>0</td>\n",
       "      <td>0</td>\n",
       "      <td>0</td>\n",
       "    </tr>\n",
       "    <tr>\n",
       "      <th>5923</th>\n",
       "      <td>4.5</td>\n",
       "      <td>3.64</td>\n",
       "      <td>53.0</td>\n",
       "      <td>0</td>\n",
       "      <td>0</td>\n",
       "      <td>0.0</td>\n",
       "      <td>0</td>\n",
       "      <td>0</td>\n",
       "      <td>0</td>\n",
       "      <td>0</td>\n",
       "      <td>...</td>\n",
       "      <td>0</td>\n",
       "      <td>0</td>\n",
       "      <td>0</td>\n",
       "      <td>0</td>\n",
       "      <td>0</td>\n",
       "      <td>0</td>\n",
       "      <td>0</td>\n",
       "      <td>0</td>\n",
       "      <td>0</td>\n",
       "      <td>0</td>\n",
       "    </tr>\n",
       "    <tr>\n",
       "      <th>5924</th>\n",
       "      <td>5.0</td>\n",
       "      <td>1.39</td>\n",
       "      <td>3.6</td>\n",
       "      <td>0</td>\n",
       "      <td>0</td>\n",
       "      <td>0.0</td>\n",
       "      <td>0</td>\n",
       "      <td>0</td>\n",
       "      <td>0</td>\n",
       "      <td>0</td>\n",
       "      <td>...</td>\n",
       "      <td>0</td>\n",
       "      <td>0</td>\n",
       "      <td>0</td>\n",
       "      <td>0</td>\n",
       "      <td>0</td>\n",
       "      <td>0</td>\n",
       "      <td>0</td>\n",
       "      <td>0</td>\n",
       "      <td>0</td>\n",
       "      <td>0</td>\n",
       "    </tr>\n",
       "  </tbody>\n",
       "</table>\n",
       "<p>5925 rows × 109 columns</p>\n",
       "</div>"
      ],
      "text/plain": [
       "      Rating  Reviews  Size  Installs  Type  Price  Category_ART_AND_DESIGN  \\\n",
       "0        4.1     5.07  19.0         1     0    0.0                        1   \n",
       "1        3.9     6.87  14.0         2     0    0.0                        1   \n",
       "2        4.7    11.38   8.7         3     0    0.0                        1   \n",
       "3        4.3     6.87   2.8         2     0    0.0                        1   \n",
       "4        4.4     5.12   5.6         1     0    0.0                        1   \n",
       "...      ...      ...   ...       ...   ...    ...                      ...   \n",
       "5920     3.8     7.09   1.0         2     0    0.0                        0   \n",
       "5921     4.8     3.78   1.0         0     0    0.0                        0   \n",
       "5922     4.0     1.95   2.6         0     0    0.0                        0   \n",
       "5923     4.5     3.64  53.0         0     0    0.0                        0   \n",
       "5924     5.0     1.39   3.6         0     0    0.0                        0   \n",
       "\n",
       "      Category_AUTO_AND_VEHICLES  Category_BEAUTY  \\\n",
       "0                              0                0   \n",
       "1                              0                0   \n",
       "2                              0                0   \n",
       "3                              0                0   \n",
       "4                              0                0   \n",
       "...                          ...              ...   \n",
       "5920                           0                0   \n",
       "5921                           0                0   \n",
       "5922                           0                0   \n",
       "5923                           0                0   \n",
       "5924                           0                0   \n",
       "\n",
       "      Category_BOOKS_AND_REFERENCE  ...  Genres_Simulation  Genres_Social  \\\n",
       "0                                0  ...                  0              0   \n",
       "1                                0  ...                  0              0   \n",
       "2                                0  ...                  0              0   \n",
       "3                                0  ...                  0              0   \n",
       "4                                0  ...                  0              0   \n",
       "...                            ...  ...                ...            ...   \n",
       "5920                             0  ...                  0              0   \n",
       "5921                             1  ...                  0              0   \n",
       "5922                             0  ...                  0              0   \n",
       "5923                             0  ...                  0              0   \n",
       "5924                             0  ...                  0              0   \n",
       "\n",
       "      Genres_Sports  Genres_Strategy  Genres_Tools  Genres_Travel & Local  \\\n",
       "0                 0                0             0                      0   \n",
       "1                 0                0             0                      0   \n",
       "2                 0                0             0                      0   \n",
       "3                 0                0             0                      0   \n",
       "4                 0                0             0                      0   \n",
       "...             ...              ...           ...                    ...   \n",
       "5920              0                0             0                      0   \n",
       "5921              0                0             0                      0   \n",
       "5922              0                0             0                      0   \n",
       "5923              0                0             0                      0   \n",
       "5924              0                0             0                      0   \n",
       "\n",
       "      Genres_Trivia  Genres_Video Players & Editors  Genres_Weather  \\\n",
       "0                 0                               0               0   \n",
       "1                 0                               0               0   \n",
       "2                 0                               0               0   \n",
       "3                 0                               0               0   \n",
       "4                 0                               0               0   \n",
       "...             ...                             ...             ...   \n",
       "5920              0                               0               1   \n",
       "5921              0                               0               0   \n",
       "5922              0                               0               0   \n",
       "5923              0                               0               0   \n",
       "5924              0                               0               0   \n",
       "\n",
       "      Genres_Word  \n",
       "0               0  \n",
       "1               0  \n",
       "2               0  \n",
       "3               0  \n",
       "4               0  \n",
       "...           ...  \n",
       "5920            0  \n",
       "5921            0  \n",
       "5922            0  \n",
       "5923            0  \n",
       "5924            0  \n",
       "\n",
       "[5925 rows x 109 columns]"
      ]
     },
     "execution_count": 54,
     "metadata": {},
     "output_type": "execute_result"
    }
   ],
   "source": [
    "df_1"
   ]
  },
  {
   "cell_type": "code",
   "execution_count": 55,
   "metadata": {},
   "outputs": [],
   "source": [
    "X1=df_1.drop('Installs', axis=1)\n",
    "y1=df_1['Installs']"
   ]
  },
  {
   "cell_type": "code",
   "execution_count": 56,
   "metadata": {},
   "outputs": [
    {
     "data": {
      "text/html": [
       "<div>\n",
       "<style scoped>\n",
       "    .dataframe tbody tr th:only-of-type {\n",
       "        vertical-align: middle;\n",
       "    }\n",
       "\n",
       "    .dataframe tbody tr th {\n",
       "        vertical-align: top;\n",
       "    }\n",
       "\n",
       "    .dataframe thead th {\n",
       "        text-align: right;\n",
       "    }\n",
       "</style>\n",
       "<table border=\"1\" class=\"dataframe\">\n",
       "  <thead>\n",
       "    <tr style=\"text-align: right;\">\n",
       "      <th></th>\n",
       "      <th>Rating</th>\n",
       "      <th>Reviews</th>\n",
       "      <th>Size</th>\n",
       "      <th>Type</th>\n",
       "      <th>Current_Ver_1</th>\n",
       "    </tr>\n",
       "  </thead>\n",
       "  <tbody>\n",
       "    <tr>\n",
       "      <th>0</th>\n",
       "      <td>4.1</td>\n",
       "      <td>5.07</td>\n",
       "      <td>19.0</td>\n",
       "      <td>0</td>\n",
       "      <td>1</td>\n",
       "    </tr>\n",
       "    <tr>\n",
       "      <th>1</th>\n",
       "      <td>3.9</td>\n",
       "      <td>6.87</td>\n",
       "      <td>14.0</td>\n",
       "      <td>0</td>\n",
       "      <td>0</td>\n",
       "    </tr>\n",
       "    <tr>\n",
       "      <th>2</th>\n",
       "      <td>4.7</td>\n",
       "      <td>11.38</td>\n",
       "      <td>8.7</td>\n",
       "      <td>0</td>\n",
       "      <td>1</td>\n",
       "    </tr>\n",
       "    <tr>\n",
       "      <th>3</th>\n",
       "      <td>4.3</td>\n",
       "      <td>6.87</td>\n",
       "      <td>2.8</td>\n",
       "      <td>0</td>\n",
       "      <td>1</td>\n",
       "    </tr>\n",
       "    <tr>\n",
       "      <th>4</th>\n",
       "      <td>4.4</td>\n",
       "      <td>5.12</td>\n",
       "      <td>5.6</td>\n",
       "      <td>0</td>\n",
       "      <td>1</td>\n",
       "    </tr>\n",
       "    <tr>\n",
       "      <th>...</th>\n",
       "      <td>...</td>\n",
       "      <td>...</td>\n",
       "      <td>...</td>\n",
       "      <td>...</td>\n",
       "      <td>...</td>\n",
       "    </tr>\n",
       "    <tr>\n",
       "      <th>5920</th>\n",
       "      <td>3.8</td>\n",
       "      <td>7.09</td>\n",
       "      <td>1.0</td>\n",
       "      <td>0</td>\n",
       "      <td>0</td>\n",
       "    </tr>\n",
       "    <tr>\n",
       "      <th>5921</th>\n",
       "      <td>4.8</td>\n",
       "      <td>3.78</td>\n",
       "      <td>1.0</td>\n",
       "      <td>0</td>\n",
       "      <td>0</td>\n",
       "    </tr>\n",
       "    <tr>\n",
       "      <th>5922</th>\n",
       "      <td>4.0</td>\n",
       "      <td>1.95</td>\n",
       "      <td>2.6</td>\n",
       "      <td>0</td>\n",
       "      <td>1</td>\n",
       "    </tr>\n",
       "    <tr>\n",
       "      <th>5923</th>\n",
       "      <td>4.5</td>\n",
       "      <td>3.64</td>\n",
       "      <td>53.0</td>\n",
       "      <td>0</td>\n",
       "      <td>1</td>\n",
       "    </tr>\n",
       "    <tr>\n",
       "      <th>5924</th>\n",
       "      <td>5.0</td>\n",
       "      <td>1.39</td>\n",
       "      <td>3.6</td>\n",
       "      <td>0</td>\n",
       "      <td>1</td>\n",
       "    </tr>\n",
       "  </tbody>\n",
       "</table>\n",
       "<p>5925 rows × 5 columns</p>\n",
       "</div>"
      ],
      "text/plain": [
       "      Rating  Reviews  Size  Type  Current_Ver_1\n",
       "0        4.1     5.07  19.0     0              1\n",
       "1        3.9     6.87  14.0     0              0\n",
       "2        4.7    11.38   8.7     0              1\n",
       "3        4.3     6.87   2.8     0              1\n",
       "4        4.4     5.12   5.6     0              1\n",
       "...      ...      ...   ...   ...            ...\n",
       "5920     3.8     7.09   1.0     0              0\n",
       "5921     4.8     3.78   1.0     0              0\n",
       "5922     4.0     1.95   2.6     0              1\n",
       "5923     4.5     3.64  53.0     0              1\n",
       "5924     5.0     1.39   3.6     0              1\n",
       "\n",
       "[5925 rows x 5 columns]"
      ]
     },
     "execution_count": 56,
     "metadata": {},
     "output_type": "execute_result"
    }
   ],
   "source": [
    "# F-Classification - w/o standardizing the dummy columns\n",
    "selection=SelectKBest(f_classif, k=5)\n",
    "selection.fit(X1,y1)\n",
    "cols = selection.get_support(indices=True)\n",
    "X_1_1 = X1.iloc[:,cols]\n",
    "X_1_1"
   ]
  },
  {
   "cell_type": "code",
   "execution_count": 57,
   "metadata": {},
   "outputs": [],
   "source": [
    "# Identify columns choosen \n",
    "mask = selection.get_support()\n",
    "feat_name=X1.columns.to_list()\n",
    "new_features = [] \n",
    "\n",
    "for bool, feature in zip(mask, feat_name):\n",
    "    if bool:\n",
    "        new_features.append(feature)"
   ]
  },
  {
   "cell_type": "markdown",
   "metadata": {},
   "source": [
    "#### Clustering -  K-Means, Agglomerrative"
   ]
  },
  {
   "cell_type": "code",
   "execution_count": 58,
   "metadata": {},
   "outputs": [
    {
     "data": {
      "text/plain": [
       "Index(['Category', 'Rating', 'Reviews', 'Size', 'Installs', 'Type', 'Price',\n",
       "       'Content_Rating', 'Genres', 'Current_Ver', 'Android_Ver_bin'],\n",
       "      dtype='object')"
      ]
     },
     "execution_count": 58,
     "metadata": {},
     "output_type": "execute_result"
    }
   ],
   "source": [
    "df.columns"
   ]
  },
  {
   "cell_type": "code",
   "execution_count": 59,
   "metadata": {},
   "outputs": [
    {
     "data": {
      "text/plain": [
       "['Rating', 'Reviews', 'Size', 'Type', 'Current_Ver_1']"
      ]
     },
     "execution_count": 59,
     "metadata": {},
     "output_type": "execute_result"
    }
   ],
   "source": [
    "new_features"
   ]
  },
  {
   "cell_type": "code",
   "execution_count": 60,
   "metadata": {},
   "outputs": [],
   "source": [
    "X_clust=X1.drop(columns=new_features)"
   ]
  },
  {
   "cell_type": "code",
   "execution_count": 61,
   "metadata": {},
   "outputs": [
    {
     "data": {
      "text/html": [
       "<div>\n",
       "<style scoped>\n",
       "    .dataframe tbody tr th:only-of-type {\n",
       "        vertical-align: middle;\n",
       "    }\n",
       "\n",
       "    .dataframe tbody tr th {\n",
       "        vertical-align: top;\n",
       "    }\n",
       "\n",
       "    .dataframe thead th {\n",
       "        text-align: right;\n",
       "    }\n",
       "</style>\n",
       "<table border=\"1\" class=\"dataframe\">\n",
       "  <thead>\n",
       "    <tr style=\"text-align: right;\">\n",
       "      <th></th>\n",
       "      <th>0</th>\n",
       "      <th>1</th>\n",
       "      <th>2</th>\n",
       "      <th>3</th>\n",
       "      <th>4</th>\n",
       "      <th>5</th>\n",
       "      <th>6</th>\n",
       "      <th>7</th>\n",
       "      <th>8</th>\n",
       "      <th>9</th>\n",
       "      <th>...</th>\n",
       "      <th>21</th>\n",
       "      <th>22</th>\n",
       "      <th>23</th>\n",
       "      <th>24</th>\n",
       "      <th>25</th>\n",
       "      <th>26</th>\n",
       "      <th>27</th>\n",
       "      <th>28</th>\n",
       "      <th>29</th>\n",
       "      <th>30</th>\n",
       "    </tr>\n",
       "  </thead>\n",
       "  <tbody>\n",
       "    <tr>\n",
       "      <th>0</th>\n",
       "      <td>-0.356382</td>\n",
       "      <td>-0.219870</td>\n",
       "      <td>-0.058905</td>\n",
       "      <td>0.024627</td>\n",
       "      <td>-0.125676</td>\n",
       "      <td>-0.158605</td>\n",
       "      <td>-0.119286</td>\n",
       "      <td>-0.076044</td>\n",
       "      <td>0.022200</td>\n",
       "      <td>0.054716</td>\n",
       "      <td>...</td>\n",
       "      <td>-0.027754</td>\n",
       "      <td>-0.042499</td>\n",
       "      <td>0.113405</td>\n",
       "      <td>-0.019913</td>\n",
       "      <td>0.002802</td>\n",
       "      <td>-0.093371</td>\n",
       "      <td>0.057935</td>\n",
       "      <td>-0.055344</td>\n",
       "      <td>0.024131</td>\n",
       "      <td>-0.047895</td>\n",
       "    </tr>\n",
       "    <tr>\n",
       "      <th>1</th>\n",
       "      <td>-0.364778</td>\n",
       "      <td>-0.306456</td>\n",
       "      <td>-0.081896</td>\n",
       "      <td>0.001805</td>\n",
       "      <td>0.814613</td>\n",
       "      <td>-0.077739</td>\n",
       "      <td>-0.033203</td>\n",
       "      <td>0.094863</td>\n",
       "      <td>0.044493</td>\n",
       "      <td>0.043840</td>\n",
       "      <td>...</td>\n",
       "      <td>0.022934</td>\n",
       "      <td>0.029761</td>\n",
       "      <td>0.076064</td>\n",
       "      <td>-0.010640</td>\n",
       "      <td>0.031214</td>\n",
       "      <td>-0.017489</td>\n",
       "      <td>0.041564</td>\n",
       "      <td>-0.064063</td>\n",
       "      <td>0.015679</td>\n",
       "      <td>-0.022809</td>\n",
       "    </tr>\n",
       "    <tr>\n",
       "      <th>2</th>\n",
       "      <td>-0.356382</td>\n",
       "      <td>-0.219870</td>\n",
       "      <td>-0.058905</td>\n",
       "      <td>0.024627</td>\n",
       "      <td>-0.125676</td>\n",
       "      <td>-0.158605</td>\n",
       "      <td>-0.119286</td>\n",
       "      <td>-0.076044</td>\n",
       "      <td>0.022200</td>\n",
       "      <td>0.054716</td>\n",
       "      <td>...</td>\n",
       "      <td>-0.027754</td>\n",
       "      <td>-0.042499</td>\n",
       "      <td>0.113405</td>\n",
       "      <td>-0.019913</td>\n",
       "      <td>0.002802</td>\n",
       "      <td>-0.093371</td>\n",
       "      <td>0.057935</td>\n",
       "      <td>-0.055344</td>\n",
       "      <td>0.024131</td>\n",
       "      <td>-0.047895</td>\n",
       "    </tr>\n",
       "    <tr>\n",
       "      <th>3</th>\n",
       "      <td>-0.356382</td>\n",
       "      <td>-0.219870</td>\n",
       "      <td>-0.058905</td>\n",
       "      <td>0.024627</td>\n",
       "      <td>-0.125676</td>\n",
       "      <td>-0.158605</td>\n",
       "      <td>-0.119286</td>\n",
       "      <td>-0.076044</td>\n",
       "      <td>0.022200</td>\n",
       "      <td>0.054716</td>\n",
       "      <td>...</td>\n",
       "      <td>-0.027754</td>\n",
       "      <td>-0.042499</td>\n",
       "      <td>0.113405</td>\n",
       "      <td>-0.019913</td>\n",
       "      <td>0.002802</td>\n",
       "      <td>-0.093371</td>\n",
       "      <td>0.057935</td>\n",
       "      <td>-0.055344</td>\n",
       "      <td>0.024131</td>\n",
       "      <td>-0.047895</td>\n",
       "    </tr>\n",
       "    <tr>\n",
       "      <th>4</th>\n",
       "      <td>0.960401</td>\n",
       "      <td>-0.194573</td>\n",
       "      <td>-0.225397</td>\n",
       "      <td>-0.279895</td>\n",
       "      <td>-0.141250</td>\n",
       "      <td>-0.245460</td>\n",
       "      <td>-0.108679</td>\n",
       "      <td>-0.046265</td>\n",
       "      <td>0.293224</td>\n",
       "      <td>0.148856</td>\n",
       "      <td>...</td>\n",
       "      <td>-0.033633</td>\n",
       "      <td>0.044668</td>\n",
       "      <td>0.079203</td>\n",
       "      <td>-0.039568</td>\n",
       "      <td>0.005472</td>\n",
       "      <td>-0.116276</td>\n",
       "      <td>0.080193</td>\n",
       "      <td>-0.048963</td>\n",
       "      <td>0.035078</td>\n",
       "      <td>-0.048212</td>\n",
       "    </tr>\n",
       "    <tr>\n",
       "      <th>...</th>\n",
       "      <td>...</td>\n",
       "      <td>...</td>\n",
       "      <td>...</td>\n",
       "      <td>...</td>\n",
       "      <td>...</td>\n",
       "      <td>...</td>\n",
       "      <td>...</td>\n",
       "      <td>...</td>\n",
       "      <td>...</td>\n",
       "      <td>...</td>\n",
       "      <td>...</td>\n",
       "      <td>...</td>\n",
       "      <td>...</td>\n",
       "      <td>...</td>\n",
       "      <td>...</td>\n",
       "      <td>...</td>\n",
       "      <td>...</td>\n",
       "      <td>...</td>\n",
       "      <td>...</td>\n",
       "      <td>...</td>\n",
       "      <td>...</td>\n",
       "    </tr>\n",
       "    <tr>\n",
       "      <th>5920</th>\n",
       "      <td>0.960427</td>\n",
       "      <td>-0.203628</td>\n",
       "      <td>-0.240041</td>\n",
       "      <td>-0.278298</td>\n",
       "      <td>-0.188136</td>\n",
       "      <td>-0.244871</td>\n",
       "      <td>-0.086009</td>\n",
       "      <td>-0.105481</td>\n",
       "      <td>0.280882</td>\n",
       "      <td>0.116961</td>\n",
       "      <td>...</td>\n",
       "      <td>-0.008524</td>\n",
       "      <td>-0.051839</td>\n",
       "      <td>0.099884</td>\n",
       "      <td>0.044497</td>\n",
       "      <td>-0.084997</td>\n",
       "      <td>-0.434565</td>\n",
       "      <td>0.315093</td>\n",
       "      <td>-0.061883</td>\n",
       "      <td>0.168468</td>\n",
       "      <td>0.084425</td>\n",
       "    </tr>\n",
       "    <tr>\n",
       "      <th>5921</th>\n",
       "      <td>0.979211</td>\n",
       "      <td>-0.204659</td>\n",
       "      <td>-0.253472</td>\n",
       "      <td>-0.291509</td>\n",
       "      <td>-0.155446</td>\n",
       "      <td>-0.276180</td>\n",
       "      <td>-0.111009</td>\n",
       "      <td>-0.045238</td>\n",
       "      <td>0.332531</td>\n",
       "      <td>0.186853</td>\n",
       "      <td>...</td>\n",
       "      <td>-0.016550</td>\n",
       "      <td>-0.043505</td>\n",
       "      <td>0.913556</td>\n",
       "      <td>-0.329569</td>\n",
       "      <td>-0.623882</td>\n",
       "      <td>0.391041</td>\n",
       "      <td>0.319659</td>\n",
       "      <td>0.403077</td>\n",
       "      <td>-0.339652</td>\n",
       "      <td>0.064114</td>\n",
       "    </tr>\n",
       "    <tr>\n",
       "      <th>5922</th>\n",
       "      <td>-0.304352</td>\n",
       "      <td>0.089612</td>\n",
       "      <td>0.946290</td>\n",
       "      <td>-0.495622</td>\n",
       "      <td>-0.132157</td>\n",
       "      <td>0.082671</td>\n",
       "      <td>-0.223309</td>\n",
       "      <td>-0.067114</td>\n",
       "      <td>0.066739</td>\n",
       "      <td>-0.179906</td>\n",
       "      <td>...</td>\n",
       "      <td>-0.055142</td>\n",
       "      <td>-0.025677</td>\n",
       "      <td>-0.034154</td>\n",
       "      <td>-0.071905</td>\n",
       "      <td>-0.057663</td>\n",
       "      <td>-0.097217</td>\n",
       "      <td>0.025086</td>\n",
       "      <td>0.042255</td>\n",
       "      <td>0.002326</td>\n",
       "      <td>0.012873</td>\n",
       "    </tr>\n",
       "    <tr>\n",
       "      <th>5923</th>\n",
       "      <td>-0.304352</td>\n",
       "      <td>0.089612</td>\n",
       "      <td>0.946290</td>\n",
       "      <td>-0.495622</td>\n",
       "      <td>-0.132157</td>\n",
       "      <td>0.082671</td>\n",
       "      <td>-0.223309</td>\n",
       "      <td>-0.067114</td>\n",
       "      <td>0.066739</td>\n",
       "      <td>-0.179906</td>\n",
       "      <td>...</td>\n",
       "      <td>-0.055142</td>\n",
       "      <td>-0.025677</td>\n",
       "      <td>-0.034154</td>\n",
       "      <td>-0.071905</td>\n",
       "      <td>-0.057663</td>\n",
       "      <td>-0.097217</td>\n",
       "      <td>0.025086</td>\n",
       "      <td>0.042255</td>\n",
       "      <td>0.002326</td>\n",
       "      <td>0.012873</td>\n",
       "    </tr>\n",
       "    <tr>\n",
       "      <th>5924</th>\n",
       "      <td>-0.304352</td>\n",
       "      <td>0.089612</td>\n",
       "      <td>0.946290</td>\n",
       "      <td>-0.495622</td>\n",
       "      <td>-0.132157</td>\n",
       "      <td>0.082671</td>\n",
       "      <td>-0.223309</td>\n",
       "      <td>-0.067114</td>\n",
       "      <td>0.066739</td>\n",
       "      <td>-0.179906</td>\n",
       "      <td>...</td>\n",
       "      <td>-0.055142</td>\n",
       "      <td>-0.025677</td>\n",
       "      <td>-0.034154</td>\n",
       "      <td>-0.071905</td>\n",
       "      <td>-0.057663</td>\n",
       "      <td>-0.097217</td>\n",
       "      <td>0.025086</td>\n",
       "      <td>0.042255</td>\n",
       "      <td>0.002326</td>\n",
       "      <td>0.012873</td>\n",
       "    </tr>\n",
       "  </tbody>\n",
       "</table>\n",
       "<p>5925 rows × 31 columns</p>\n",
       "</div>"
      ],
      "text/plain": [
       "            0         1         2         3         4         5         6   \\\n",
       "0    -0.356382 -0.219870 -0.058905  0.024627 -0.125676 -0.158605 -0.119286   \n",
       "1    -0.364778 -0.306456 -0.081896  0.001805  0.814613 -0.077739 -0.033203   \n",
       "2    -0.356382 -0.219870 -0.058905  0.024627 -0.125676 -0.158605 -0.119286   \n",
       "3    -0.356382 -0.219870 -0.058905  0.024627 -0.125676 -0.158605 -0.119286   \n",
       "4     0.960401 -0.194573 -0.225397 -0.279895 -0.141250 -0.245460 -0.108679   \n",
       "...        ...       ...       ...       ...       ...       ...       ...   \n",
       "5920  0.960427 -0.203628 -0.240041 -0.278298 -0.188136 -0.244871 -0.086009   \n",
       "5921  0.979211 -0.204659 -0.253472 -0.291509 -0.155446 -0.276180 -0.111009   \n",
       "5922 -0.304352  0.089612  0.946290 -0.495622 -0.132157  0.082671 -0.223309   \n",
       "5923 -0.304352  0.089612  0.946290 -0.495622 -0.132157  0.082671 -0.223309   \n",
       "5924 -0.304352  0.089612  0.946290 -0.495622 -0.132157  0.082671 -0.223309   \n",
       "\n",
       "            7         8         9   ...        21        22        23  \\\n",
       "0    -0.076044  0.022200  0.054716  ... -0.027754 -0.042499  0.113405   \n",
       "1     0.094863  0.044493  0.043840  ...  0.022934  0.029761  0.076064   \n",
       "2    -0.076044  0.022200  0.054716  ... -0.027754 -0.042499  0.113405   \n",
       "3    -0.076044  0.022200  0.054716  ... -0.027754 -0.042499  0.113405   \n",
       "4    -0.046265  0.293224  0.148856  ... -0.033633  0.044668  0.079203   \n",
       "...        ...       ...       ...  ...       ...       ...       ...   \n",
       "5920 -0.105481  0.280882  0.116961  ... -0.008524 -0.051839  0.099884   \n",
       "5921 -0.045238  0.332531  0.186853  ... -0.016550 -0.043505  0.913556   \n",
       "5922 -0.067114  0.066739 -0.179906  ... -0.055142 -0.025677 -0.034154   \n",
       "5923 -0.067114  0.066739 -0.179906  ... -0.055142 -0.025677 -0.034154   \n",
       "5924 -0.067114  0.066739 -0.179906  ... -0.055142 -0.025677 -0.034154   \n",
       "\n",
       "            24        25        26        27        28        29        30  \n",
       "0    -0.019913  0.002802 -0.093371  0.057935 -0.055344  0.024131 -0.047895  \n",
       "1    -0.010640  0.031214 -0.017489  0.041564 -0.064063  0.015679 -0.022809  \n",
       "2    -0.019913  0.002802 -0.093371  0.057935 -0.055344  0.024131 -0.047895  \n",
       "3    -0.019913  0.002802 -0.093371  0.057935 -0.055344  0.024131 -0.047895  \n",
       "4    -0.039568  0.005472 -0.116276  0.080193 -0.048963  0.035078 -0.048212  \n",
       "...        ...       ...       ...       ...       ...       ...       ...  \n",
       "5920  0.044497 -0.084997 -0.434565  0.315093 -0.061883  0.168468  0.084425  \n",
       "5921 -0.329569 -0.623882  0.391041  0.319659  0.403077 -0.339652  0.064114  \n",
       "5922 -0.071905 -0.057663 -0.097217  0.025086  0.042255  0.002326  0.012873  \n",
       "5923 -0.071905 -0.057663 -0.097217  0.025086  0.042255  0.002326  0.012873  \n",
       "5924 -0.071905 -0.057663 -0.097217  0.025086  0.042255  0.002326  0.012873  \n",
       "\n",
       "[5925 rows x 31 columns]"
      ]
     },
     "execution_count": 61,
     "metadata": {},
     "output_type": "execute_result"
    }
   ],
   "source": [
    "pca=PCA(0.85)\n",
    "x=pd.DataFrame(pca.fit_transform(X_clust))\n",
    "x"
   ]
  },
  {
   "cell_type": "code",
   "execution_count": 62,
   "metadata": {
    "collapsed": true
   },
   "outputs": [
    {
     "data": {
      "text/plain": [
       "array([0.09181253, 0.07627059, 0.06700561, 0.06053278, 0.04794416,\n",
       "       0.04441158, 0.03227042, 0.02958746, 0.02654891, 0.02490564,\n",
       "       0.02294822, 0.02228397, 0.02187471, 0.02117678, 0.02023709,\n",
       "       0.01962272, 0.01908607, 0.01831846, 0.01816857, 0.01717089,\n",
       "       0.01652989, 0.01631072, 0.01522675, 0.01427615, 0.01387076,\n",
       "       0.01366398, 0.01272313, 0.01217329, 0.01204213, 0.01148634,\n",
       "       0.00984438])"
      ]
     },
     "execution_count": 62,
     "metadata": {},
     "output_type": "execute_result"
    }
   ],
   "source": [
    "(pca.explained_variance_ratio_)"
   ]
  },
  {
   "cell_type": "code",
   "execution_count": 63,
   "metadata": {},
   "outputs": [],
   "source": [
    "single=AgglomerativeClustering(n_clusters=3, linkage='single')\n",
    "kmeans = KMeans(3)"
   ]
  },
  {
   "cell_type": "code",
   "execution_count": 64,
   "metadata": {},
   "outputs": [
    {
     "data": {
      "text/plain": [
       "KMeans(algorithm='auto', copy_x=True, init='k-means++', max_iter=300,\n",
       "       n_clusters=3, n_init=10, n_jobs=None, precompute_distances='auto',\n",
       "       random_state=None, tol=0.0001, verbose=0)"
      ]
     },
     "execution_count": 64,
     "metadata": {},
     "output_type": "execute_result"
    }
   ],
   "source": [
    "single.fit(x)\n",
    "kmeans.fit(x)"
   ]
  },
  {
   "cell_type": "code",
   "execution_count": 65,
   "metadata": {},
   "outputs": [],
   "source": [
    "y_s=single.labels_.astype(np.int)\n",
    "y_km=kmeans.predict(x)"
   ]
  },
  {
   "cell_type": "code",
   "execution_count": 66,
   "metadata": {},
   "outputs": [
    {
     "name": "stdout",
     "output_type": "stream",
     "text": [
      "Model 1. Silhouette is 0.3786198483762523\n",
      "Model 2. Silhouette is 0.1467122057983074\n",
      "Model 1. Davies-Bouldin is 0.4705098913910528\n",
      "Model 2. Davies-Bouldin is 2.464805393795125\n"
     ]
    }
   ],
   "source": [
    "print('Model 1. Silhouette is',silhouette_score(x,y_s))\n",
    "print('Model 2. Silhouette is',silhouette_score(x,y_km))\n",
    "\n",
    "print('Model 1. Davies-Bouldin is',davies_bouldin_score(x,y_s))\n",
    "print('Model 2. Davies-Bouldin is',davies_bouldin_score(x,y_km))"
   ]
  },
  {
   "cell_type": "code",
   "execution_count": 67,
   "metadata": {},
   "outputs": [
    {
     "data": {
      "text/plain": [
       "1    3426\n",
       "2    1420\n",
       "0    1079\n",
       "Name: 0, dtype: int64"
      ]
     },
     "execution_count": 67,
     "metadata": {},
     "output_type": "execute_result"
    }
   ],
   "source": [
    "(pd.DataFrame(y_km))[0].value_counts()"
   ]
  },
  {
   "cell_type": "code",
   "execution_count": 74,
   "metadata": {
    "scrolled": false
   },
   "outputs": [
    {
     "data": {
      "image/png": "[encoded data removed]",
      "text/plain": [
       "<Figure size 720x504 with 2 Axes>"
      ]
     },
     "metadata": {
      "needs_background": "light"
     },
     "output_type": "display_data"
    }
   ],
   "source": [
    "from yellowbrick.cluster import InterclusterDistance\n",
    "plt.figure(figsize=(10,7))\n",
    "viz=InterclusterDistance(kmeans)\n",
    "viz.fit(x)\n",
    "viz.show();"
   ]
  },
  {
   "cell_type": "code",
   "execution_count": 75,
   "metadata": {},
   "outputs": [],
   "source": [
    "Sum_of_squared_distances = []\n",
    "K = range(2,15)\n",
    "for k in K:\n",
    "    km = KMeans(n_clusters=k)\n",
    "    km = km.fit(x)\n",
    "    Sum_of_squared_distances.append(km.inertia_)"
   ]
  },
  {
   "cell_type": "code",
   "execution_count": null,
   "metadata": {},
   "outputs": [],
   "source": [
    "plt.plot(K, Sum_of_squared_distances, 'bx-')\n",
    "plt.xlabel('k')\n",
    "plt.ylabel('Sum_of_squared_distances')\n",
    "plt.title('Elbow Method For Optimal k')\n",
    "plt.show();"
   ]
  },
  {
   "cell_type": "code",
   "execution_count": 77,
   "metadata": {},
   "outputs": [
    {
     "data": {
      "image/png": "[encoded data removed]",
      "text/plain": [
       "<Figure size 720x504 with 2 Axes>"
      ]
     },
     "metadata": {},
     "output_type": "display_data"
    }
   ],
   "source": [
    "from yellowbrick.cluster import KElbowVisualizer\n",
    "plt.figure(figsize=(10,7))\n",
    "visualizer = KElbowVisualizer(kmeans, k=(2,15))\n",
    "visualizer.fit(x) \n",
    "visualizer.show();"
   ]
  },
  {
   "cell_type": "markdown",
   "metadata": {},
   "source": [
    "#### Clustering - K-Modes"
   ]
  },
  {
   "cell_type": "code",
   "execution_count": 78,
   "metadata": {},
   "outputs": [
    {
     "data": {
      "text/plain": [
       "KModes(cat_dissim=<function matching_dissim at 0x1a21c85dd0>, init='Huang',\n",
       "       max_iter=100, n_clusters=3, n_init=1, n_jobs=1, random_state=None,\n",
       "       verbose=0)"
      ]
     },
     "execution_count": 78,
     "metadata": {},
     "output_type": "execute_result"
    }
   ],
   "source": [
    "kmodes = KModes(n_clusters=3, init='Huang')\n",
    "kmodes.fit(X_clust)"
   ]
  },
  {
   "cell_type": "code",
   "execution_count": 79,
   "metadata": {},
   "outputs": [],
   "source": [
    "ykmodes=kmodes.predict(X_clust)"
   ]
  },
  {
   "cell_type": "code",
   "execution_count": 80,
   "metadata": {},
   "outputs": [
    {
     "data": {
      "text/plain": [
       "0    3769\n",
       "1    1252\n",
       "2     904\n",
       "Name: 0, dtype: int64"
      ]
     },
     "execution_count": 80,
     "metadata": {},
     "output_type": "execute_result"
    }
   ],
   "source": [
    "(pd.DataFrame(ykmodes))[0].value_counts()"
   ]
  },
  {
   "cell_type": "code",
   "execution_count": 81,
   "metadata": {},
   "outputs": [
    {
     "name": "stdout",
     "output_type": "stream",
     "text": [
      "Model 1. Silhouette is 0.10083799467676581\n",
      "Model 1. Davies-Bouldin is 2.821418924177598\n"
     ]
    }
   ],
   "source": [
    "print('Model 1. Silhouette is',silhouette_score(x,ykmodes))\n",
    "print('Model 1. Davies-Bouldin is',davies_bouldin_score(x,ykmodes))"
   ]
  },
  {
   "cell_type": "code",
   "execution_count": 82,
   "metadata": {},
   "outputs": [
    {
     "data": {
      "text/plain": [
       "array([0, 2, 0, ..., 1, 1, 1], dtype=uint16)"
      ]
     },
     "execution_count": 82,
     "metadata": {},
     "output_type": "execute_result"
    }
   ],
   "source": [
    "ykmodes"
   ]
  },
  {
   "cell_type": "code",
   "execution_count": 83,
   "metadata": {},
   "outputs": [],
   "source": [
    "X_1_1['Cluster']=y_km"
   ]
  },
  {
   "cell_type": "code",
   "execution_count": 84,
   "metadata": {},
   "outputs": [
    {
     "data": {
      "text/html": [
       "<div>\n",
       "<style scoped>\n",
       "    .dataframe tbody tr th:only-of-type {\n",
       "        vertical-align: middle;\n",
       "    }\n",
       "\n",
       "    .dataframe tbody tr th {\n",
       "        vertical-align: top;\n",
       "    }\n",
       "\n",
       "    .dataframe thead th {\n",
       "        text-align: right;\n",
       "    }\n",
       "</style>\n",
       "<table border=\"1\" class=\"dataframe\">\n",
       "  <thead>\n",
       "    <tr style=\"text-align: right;\">\n",
       "      <th></th>\n",
       "      <th>Rating</th>\n",
       "      <th>Reviews</th>\n",
       "      <th>Size</th>\n",
       "      <th>Type</th>\n",
       "      <th>Current_Ver_1</th>\n",
       "      <th>Cluster</th>\n",
       "    </tr>\n",
       "  </thead>\n",
       "  <tbody>\n",
       "    <tr>\n",
       "      <th>0</th>\n",
       "      <td>4.1</td>\n",
       "      <td>5.07</td>\n",
       "      <td>19.0</td>\n",
       "      <td>0</td>\n",
       "      <td>1</td>\n",
       "      <td>1</td>\n",
       "    </tr>\n",
       "    <tr>\n",
       "      <th>1</th>\n",
       "      <td>3.9</td>\n",
       "      <td>6.87</td>\n",
       "      <td>14.0</td>\n",
       "      <td>0</td>\n",
       "      <td>0</td>\n",
       "      <td>1</td>\n",
       "    </tr>\n",
       "    <tr>\n",
       "      <th>2</th>\n",
       "      <td>4.7</td>\n",
       "      <td>11.38</td>\n",
       "      <td>8.7</td>\n",
       "      <td>0</td>\n",
       "      <td>1</td>\n",
       "      <td>1</td>\n",
       "    </tr>\n",
       "    <tr>\n",
       "      <th>3</th>\n",
       "      <td>4.3</td>\n",
       "      <td>6.87</td>\n",
       "      <td>2.8</td>\n",
       "      <td>0</td>\n",
       "      <td>1</td>\n",
       "      <td>1</td>\n",
       "    </tr>\n",
       "    <tr>\n",
       "      <th>4</th>\n",
       "      <td>4.4</td>\n",
       "      <td>5.12</td>\n",
       "      <td>5.6</td>\n",
       "      <td>0</td>\n",
       "      <td>1</td>\n",
       "      <td>2</td>\n",
       "    </tr>\n",
       "    <tr>\n",
       "      <th>...</th>\n",
       "      <td>...</td>\n",
       "      <td>...</td>\n",
       "      <td>...</td>\n",
       "      <td>...</td>\n",
       "      <td>...</td>\n",
       "      <td>...</td>\n",
       "    </tr>\n",
       "    <tr>\n",
       "      <th>5920</th>\n",
       "      <td>3.8</td>\n",
       "      <td>7.09</td>\n",
       "      <td>1.0</td>\n",
       "      <td>0</td>\n",
       "      <td>0</td>\n",
       "      <td>2</td>\n",
       "    </tr>\n",
       "    <tr>\n",
       "      <th>5921</th>\n",
       "      <td>4.8</td>\n",
       "      <td>3.78</td>\n",
       "      <td>1.0</td>\n",
       "      <td>0</td>\n",
       "      <td>0</td>\n",
       "      <td>2</td>\n",
       "    </tr>\n",
       "    <tr>\n",
       "      <th>5922</th>\n",
       "      <td>4.0</td>\n",
       "      <td>1.95</td>\n",
       "      <td>2.6</td>\n",
       "      <td>0</td>\n",
       "      <td>1</td>\n",
       "      <td>1</td>\n",
       "    </tr>\n",
       "    <tr>\n",
       "      <th>5923</th>\n",
       "      <td>4.5</td>\n",
       "      <td>3.64</td>\n",
       "      <td>53.0</td>\n",
       "      <td>0</td>\n",
       "      <td>1</td>\n",
       "      <td>1</td>\n",
       "    </tr>\n",
       "    <tr>\n",
       "      <th>5924</th>\n",
       "      <td>5.0</td>\n",
       "      <td>1.39</td>\n",
       "      <td>3.6</td>\n",
       "      <td>0</td>\n",
       "      <td>1</td>\n",
       "      <td>1</td>\n",
       "    </tr>\n",
       "  </tbody>\n",
       "</table>\n",
       "<p>5925 rows × 6 columns</p>\n",
       "</div>"
      ],
      "text/plain": [
       "      Rating  Reviews  Size  Type  Current_Ver_1  Cluster\n",
       "0        4.1     5.07  19.0     0              1        1\n",
       "1        3.9     6.87  14.0     0              0        1\n",
       "2        4.7    11.38   8.7     0              1        1\n",
       "3        4.3     6.87   2.8     0              1        1\n",
       "4        4.4     5.12   5.6     0              1        2\n",
       "...      ...      ...   ...   ...            ...      ...\n",
       "5920     3.8     7.09   1.0     0              0        2\n",
       "5921     4.8     3.78   1.0     0              0        2\n",
       "5922     4.0     1.95   2.6     0              1        1\n",
       "5923     4.5     3.64  53.0     0              1        1\n",
       "5924     5.0     1.39   3.6     0              1        1\n",
       "\n",
       "[5925 rows x 6 columns]"
      ]
     },
     "execution_count": 84,
     "metadata": {},
     "output_type": "execute_result"
    }
   ],
   "source": [
    "X_1_1"
   ]
  },
  {
   "cell_type": "code",
   "execution_count": 129,
   "metadata": {
    "scrolled": false
   },
   "outputs": [
    {
     "data": {
      "image/png": "[encoded data removed]",
      "text/plain": [
       "<Figure size 1080x504 with 2 Axes>"
      ]
     },
     "metadata": {
      "needs_background": "light"
     },
     "output_type": "display_data"
    }
   ],
   "source": [
    "plt.figure(figsize=(15,7))\n",
    "sns.heatmap(pd.crosstab(X_1_1.Reviews, X_1_1.Cluster))\n",
    "plt.title('Correlation between Reviews and Clusters\\n');"
   ]
  },
  {
   "cell_type": "code",
   "execution_count": 102,
   "metadata": {},
   "outputs": [
    {
     "data": {
      "image/png": "[encoded data removed]",
      "text/plain": [
       "<Figure size 1080x504 with 1 Axes>"
      ]
     },
     "metadata": {
      "needs_background": "light"
     },
     "output_type": "display_data"
    }
   ],
   "source": [
    "# Crosstab between Rating and Cluster\n",
    "#pd.crosstab(X_1_1.Rating, X_1_1.Cluster, normalize='columns').round(2)\n",
    "plt.figure(figsize=(15,7))\n",
    "pd.options.display.max_rows = 155\n",
    "\n",
    "rating_clust=pd.crosstab(X_1_1.Rating, X_1_1.Cluster)\n",
    "sns.scatterplot(data=rating_clust)\n",
    "plt.title('Frequency Distribution of Clusterized Rating Feature');"
   ]
  },
  {
   "cell_type": "code",
   "execution_count": 88,
   "metadata": {},
   "outputs": [
    {
     "data": {
      "text/plain": [
       "Cluster\n",
       "0    4.219092\n",
       "1    4.270549\n",
       "2    4.173592\n",
       "Name: Rating, dtype: float64"
      ]
     },
     "execution_count": 88,
     "metadata": {},
     "output_type": "execute_result"
    }
   ],
   "source": [
    "X_1_1.groupby('Cluster')['Rating'].agg('mean')"
   ]
  },
  {
   "cell_type": "code",
   "execution_count": 103,
   "metadata": {},
   "outputs": [
    {
     "data": {
      "image/png": "[encoded data removed]",
      "text/plain": [
       "<Figure size 1080x504 with 1 Axes>"
      ]
     },
     "metadata": {
      "needs_background": "light"
     },
     "output_type": "display_data"
    }
   ],
   "source": [
    "plt.figure(figsize=(15,7))\n",
    "\n",
    "size_clust=pd.crosstab(X_1_1.Size, X_1_1.Cluster)\n",
    "sns.scatterplot(data=size_clust)\n",
    "plt.title('Frequency Distribution of Clusterized Size Feature');"
   ]
  },
  {
   "cell_type": "code",
   "execution_count": 90,
   "metadata": {},
   "outputs": [
    {
     "data": {
      "text/plain": [
       "Cluster\n",
       "0    25.167377\n",
       "1    17.862697\n",
       "2    13.847324\n",
       "Name: Size, dtype: float64"
      ]
     },
     "execution_count": 90,
     "metadata": {},
     "output_type": "execute_result"
    }
   ],
   "source": [
    "X_1_1.groupby('Cluster')['Size'].agg('mean')"
   ]
  },
  {
   "cell_type": "code",
   "execution_count": 104,
   "metadata": {},
   "outputs": [
    {
     "data": {
      "image/png": "[encoded data removed]",
      "text/plain": [
       "<Figure size 1080x504 with 1 Axes>"
      ]
     },
     "metadata": {
      "needs_background": "light"
     },
     "output_type": "display_data"
    }
   ],
   "source": [
    "plt.figure(figsize=(15,7))\n",
    "\n",
    "reviews_clust=pd.crosstab(X_1_1.Reviews, X_1_1.Cluster)\n",
    "sns.scatterplot(data=reviews_clust)\n",
    "plt.title('Frequency Distribution of Clusterized Review Feature');"
   ]
  },
  {
   "cell_type": "code",
   "execution_count": 92,
   "metadata": {},
   "outputs": [
    {
     "data": {
      "text/plain": [
       "Cluster\n",
       "0     26\n",
       "1    126\n",
       "2    129\n",
       "Name: Type, dtype: int64"
      ]
     },
     "execution_count": 92,
     "metadata": {},
     "output_type": "execute_result"
    }
   ],
   "source": [
    "X_1_1.groupby('Cluster')['Type'].agg('sum')"
   ]
  },
  {
   "cell_type": "code",
   "execution_count": 95,
   "metadata": {},
   "outputs": [
    {
     "data": {
      "image/png": "[encoded data removed]",
      "text/plain": [
       "<Figure size 1080x720 with 1 Axes>"
      ]
     },
     "metadata": {
      "needs_background": "light"
     },
     "output_type": "display_data"
    }
   ],
   "source": [
    "plt.figure(figsize=(15,10))\n",
    "\n",
    "type_clust=pd.crosstab(X_1_1.Type, X_1_1.Cluster)\n",
    "sns.scatterplot(data=type_clust);"
   ]
  },
  {
   "cell_type": "code",
   "execution_count": 96,
   "metadata": {},
   "outputs": [
    {
     "data": {
      "text/html": [
       "<div>\n",
       "<style scoped>\n",
       "    .dataframe tbody tr th:only-of-type {\n",
       "        vertical-align: middle;\n",
       "    }\n",
       "\n",
       "    .dataframe tbody tr th {\n",
       "        vertical-align: top;\n",
       "    }\n",
       "\n",
       "    .dataframe thead th {\n",
       "        text-align: right;\n",
       "    }\n",
       "</style>\n",
       "<table border=\"1\" class=\"dataframe\">\n",
       "  <thead>\n",
       "    <tr style=\"text-align: right;\">\n",
       "      <th>Cluster</th>\n",
       "      <th>0</th>\n",
       "      <th>1</th>\n",
       "      <th>2</th>\n",
       "    </tr>\n",
       "    <tr>\n",
       "      <th>Type</th>\n",
       "      <th></th>\n",
       "      <th></th>\n",
       "      <th></th>\n",
       "    </tr>\n",
       "  </thead>\n",
       "  <tbody>\n",
       "    <tr>\n",
       "      <th>0</th>\n",
       "      <td>1053</td>\n",
       "      <td>3300</td>\n",
       "      <td>1291</td>\n",
       "    </tr>\n",
       "    <tr>\n",
       "      <th>1</th>\n",
       "      <td>26</td>\n",
       "      <td>126</td>\n",
       "      <td>129</td>\n",
       "    </tr>\n",
       "  </tbody>\n",
       "</table>\n",
       "</div>"
      ],
      "text/plain": [
       "Cluster     0     1     2\n",
       "Type                     \n",
       "0        1053  3300  1291\n",
       "1          26   126   129"
      ]
     },
     "execution_count": 96,
     "metadata": {},
     "output_type": "execute_result"
    }
   ],
   "source": [
    "pd.crosstab(X_1_1.Type, X_1_1.Cluster).round(2)"
   ]
  },
  {
   "cell_type": "code",
   "execution_count": 98,
   "metadata": {},
   "outputs": [
    {
     "data": {
      "image/png": "[encoded data removed]",
      "text/plain": [
       "<Figure size 405.725x360 with 1 Axes>"
      ]
     },
     "metadata": {
      "needs_background": "light"
     },
     "output_type": "display_data"
    }
   ],
   "source": [
    "sns.lmplot(data=X_1_1, y='Rating',x='Size', hue='Cluster', fit_reg=False);"
   ]
  },
  {
   "cell_type": "markdown",
   "metadata": {},
   "source": [
    "### Modeling \n",
    "#### Multi-Variate Random Forest Classification"
   ]
  },
  {
   "cell_type": "code",
   "execution_count": 105,
   "metadata": {},
   "outputs": [],
   "source": [
    "# Creataing a new target variable with its values as dummy \n",
    "y1_dum=pd.get_dummies(data=y1)"
   ]
  },
  {
   "cell_type": "code",
   "execution_count": 106,
   "metadata": {},
   "outputs": [],
   "source": [
    "# Creating Test and Train Datasets\n",
    "X_train, X_test, y_train, y_test = train_test_split(X_1_1, y1_dum, stratify=y1_dum, random_state=42)"
   ]
  },
  {
   "cell_type": "code",
   "execution_count": 107,
   "metadata": {},
   "outputs": [],
   "source": [
    "moc_rf=MultiOutputClassifier(RandomForestClassifier()).fit(X_train,y_train)"
   ]
  },
  {
   "cell_type": "code",
   "execution_count": 108,
   "metadata": {},
   "outputs": [],
   "source": [
    "y_pred=moc_rf.predict(X_test)"
   ]
  },
  {
   "cell_type": "code",
   "execution_count": 130,
   "metadata": {},
   "outputs": [
    {
     "name": "stdout",
     "output_type": "stream",
     "text": [
      "\n",
      "Multi-Class Random Forest Classification Model\n",
      "\n",
      "Accuracy:  0.775\n",
      "Precision:  0.813\n",
      "Recall:  0.785\n",
      "F1 Score:  0.798\n",
      "Roc:  0.869 \n",
      "\n",
      "Confusion Matrix\n",
      " [[[1119   31]\n",
      "  [  49  283]]\n",
      "\n",
      " [[1112   80]\n",
      "  [  83  207]]\n",
      "\n",
      " [[1092   71]\n",
      "  [  83  236]]\n",
      "\n",
      " [[1037   64]\n",
      "  [  62  319]]\n",
      "\n",
      " [[1298   24]\n",
      "  [  35  125]]]\n"
     ]
    }
   ],
   "source": [
    "print('\\nMulti-Class Random Forest Classification Model\\n')\n",
    "print('Accuracy: ', round(accuracy_score(y_test, y_pred),3))\n",
    "print('Precision: ', round(metrics.precision_score(y_test, y_pred, average='macro'),3))\n",
    "print('Recall: ', round(metrics.recall_score(y_test, y_pred, average='macro'),3))\n",
    "print('F1 Score: ', round(metrics.f1_score(y_test, y_pred, average='macro'),3))\n",
    "print('Roc: ', round(metrics.roc_auc_score(y_test, y_pred, average='macro'),3), '\\n')\n",
    "print(f'Confusion Matrix\\n {multilabel_confusion_matrix(y_test, y_pred)}')"
   ]
  },
  {
   "cell_type": "code",
   "execution_count": 131,
   "metadata": {
    "scrolled": true
   },
   "outputs": [
    {
     "name": "stdout",
     "output_type": "stream",
     "text": [
      "\n",
      "Multi-Class Random Forest Classification Model Report: \n",
      "\n",
      "              precision    recall  f1-score   support\n",
      "\n",
      "           0       0.90      0.85      0.88       332\n",
      "           1       0.72      0.71      0.72       290\n",
      "           2       0.77      0.74      0.75       319\n",
      "           3       0.83      0.84      0.84       381\n",
      "           4       0.84      0.78      0.81       160\n",
      "\n",
      "   micro avg       0.81      0.79      0.80      1482\n",
      "   macro avg       0.81      0.78      0.80      1482\n",
      "weighted avg       0.81      0.79      0.80      1482\n",
      " samples avg       0.78      0.79      0.78      1482\n",
      "\n"
     ]
    }
   ],
   "source": [
    "print('\\nMulti-Class Random Forest Classification Model Report: \\n')\n",
    "from sklearn.metrics import classification_report\n",
    "print(classification_report(y_test, y_pred))"
   ]
  },
  {
   "cell_type": "markdown",
   "metadata": {},
   "source": [
    "#### Multi-Variate Logistic Regression"
   ]
  },
  {
   "cell_type": "code",
   "execution_count": 111,
   "metadata": {},
   "outputs": [],
   "source": [
    "X_train2, X_test2, y_train2, y_test2 = train_test_split(X_1_1, y1, stratify=y1, random_state=42)"
   ]
  },
  {
   "cell_type": "code",
   "execution_count": 112,
   "metadata": {},
   "outputs": [],
   "source": [
    "from sklearn.linear_model import LogisticRegression\n",
    "logreg = LogisticRegression(solver= 'newton-cg', multi_class='multinomial').fit(X_train2,y_train2)\n",
    "y_pred2=logreg.predict(X_test2)"
   ]
  },
  {
   "cell_type": "code",
   "execution_count": 117,
   "metadata": {
    "scrolled": true
   },
   "outputs": [
    {
     "name": "stdout",
     "output_type": "stream",
     "text": [
      "\n",
      "Mult-Class Logistic Regression Model\n",
      "\n",
      "Accuracy:  0.791\n",
      "Precision:  0.788\n",
      "Recall:  0.778\n",
      "F1 Score:  0.782\n",
      "Roc:  0.959 \n",
      "\n"
     ]
    }
   ],
   "source": [
    "print('\\nMult-Class Logistic Regression Model\\n')\n",
    "print('Precision: ', round(metrics.precision_score(y_test2, y_pred2, average='macro'),3))\n",
    "print('Precision: ', round(metrics.precision_score(y_test2, y_pred2, average='macro'),3))\n",
    "print('Recall: ', round(metrics.recall_score(y_test2, y_pred2, average='macro'),3))\n",
    "print('F1 Score: ', round(metrics.f1_score(y_test2, y_pred2, average='macro'),3))\n",
    "print('Roc: ', round(metrics.roc_auc_score(y_test2, logreg.predict_proba(X_test2),average='macro', multi_class='ovr'),3), '\\n')"
   ]
  },
  {
   "cell_type": "code",
   "execution_count": 119,
   "metadata": {},
   "outputs": [
    {
     "data": {
      "image/png": "[encoded data removed]",
      "text/plain": [
       "<Figure size 1080x504 with 1 Axes>"
      ]
     },
     "metadata": {
      "needs_background": "light"
     },
     "output_type": "display_data"
    }
   ],
   "source": [
    "plt.figure(figsize=(15,7))\n",
    "\n",
    "model = LogisticRegression(solver= 'newton-cg', multi_class='multinomial')\n",
    "viz = FeatureImportances(model, stack=True, relative=False)\n",
    "viz.fit(X_test2, y_pred2)\n",
    "viz.show();"
   ]
  },
  {
   "cell_type": "markdown",
   "metadata": {},
   "source": [
    "#### CV, Hyper-Parameter Tuning, and Balancing Dataset"
   ]
  },
  {
   "cell_type": "code",
   "execution_count": null,
   "metadata": {},
   "outputs": [],
   "source": [
    "k_values=range(1,20)\n",
    "for k in k_values:\n",
    "    # define pipeline / Youn run of Xtrain instead of the whole dataset\n",
    "    model=MultiOutputClassifier(RandomForestClassifier())\n",
    "    over=SMOTE(sampling_strategy=(), k_neighbors=k)\n",
    "    under=RandomUnderSampler(sampling_strategy=())\n",
    "    steps=[('o',over),('u',under),('model',model)]\n",
    "    pipeline=Pipeline(steps=steps)\n",
    "    \n",
    "    #evaluate Pipeline\n",
    "    cv=RepeatedStratifiedKFold(n_splits=10, n_repeats=3, random_state=1)\n",
    "    scores=cross_val_score(pipeline, X_1_1,y1, scoring='precision',cv=cv, n_jobs=1)\n",
    "    score=np.mean(scores)\n",
    "    \n",
    "    print(f'> k={k}, mean recall is {score}')"
   ]
  },
  {
   "cell_type": "code",
   "execution_count": null,
   "metadata": {},
   "outputs": [],
   "source": [
    "#X_train, X_test, y_train, y_test = train_test_split(X_1_1,y1,stratify=y1, random_state=42)\n",
    "# redefine the best model \n",
    "model=RandomForestClassifier()\n",
    "over=SMOTE(sampling_strategy=0.1, k_neighbors=6)\n",
    "under=RandomUnderSampler(sampling_strategy=0.5)\n",
    "steps=[('o',over),('u',under)]\n",
    "pipeline=Pipeline(steps=steps)\n",
    "\n",
    "X_train,y_train = pipeline.fit_resample(X_train,y_train)\n",
    "\n",
    "#hyperparameter tuning for Random Forest\n",
    "params={'n_estimators':[10,100,1000],\n",
    "'criterion':['gini','entropy'],\n",
    "'max_depth':[None,5],\n",
    "'bootstrap':[True, False],\n",
    "'warm_start':[False,True],\n",
    "'class_weight':[None,'balanced','balanced_subsample']}\n",
    "\n",
    "cv=RepeatedStratifiedKFold(n_splits=10, n_repeats=3, random_state=1)\n",
    "\n",
    "grid_search=GridSearchCV(estimator=model, param_grid=params, n_jobs=-1, scoring='recall',cv=cv)\n",
    "grid_result=grid_search.fit(X_train,y_train)\n",
    "\n",
    "print(f'Best {grid_result.best_score_} using {grid_result.best_params_}')"
   ]
  },
  {
   "cell_type": "code",
   "execution_count": null,
   "metadata": {},
   "outputs": [],
   "source": [
    "from sklearn.utils.multiclass import type_of_target\n",
    "type_of_target(y1)"
   ]
  }
 ],
 "metadata": {
  "kernelspec": {
   "display_name": "Python 3",
   "language": "python",
   "name": "python3"
  },
  "language_info": {
   "codemirror_mode": {
    "name": "ipython",
    "version": 3
   },
   "file_extension": ".py",
   "mimetype": "text/x-python",
   "name": "python",
   "nbconvert_exporter": "python",
   "pygments_lexer": "ipython3",
   "version": "3.7.6"
  }
 },
 "nbformat": 4,
 "nbformat_minor": 4
}
